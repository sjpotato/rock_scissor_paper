{
 "cells": [
  {
   "cell_type": "markdown",
   "id": "uniform-ocean",
   "metadata": {},
   "source": [
    "# 가위바위보 분류기"
   ]
  },
  {
   "cell_type": "markdown",
   "id": "blind-strategy",
   "metadata": {},
   "source": [
    "## 1. 사전 준비 \n",
    "  1) 필요한 라이브러리 import<br>\n",
    "  2) 이미지 사이즈 조절 함수 정의<br>\n",
    "  3) 훈련용 이미지 정보 준비 및 사이즈 변경( 28 x 28 )  <br>"
   ]
  },
  {
   "cell_type": "markdown",
   "id": "compressed-creativity",
   "metadata": {},
   "source": [
    "### 1) PIL, os, glob, np, plt library import"
   ]
  },
  {
   "cell_type": "code",
   "execution_count": 11,
   "id": "recent-waters",
   "metadata": {},
   "outputs": [
    {
     "name": "stdout",
     "output_type": "stream",
     "text": [
      "라이브러리 import 완료!\n"
     ]
    }
   ],
   "source": [
    "from PIL import Image\n",
    "import os, glob\n",
    "import numpy as np\n",
    "import matplotlib.pyplot as plt\n",
    "\n",
    "print(\"라이브러리 import 완료!\")"
   ]
  },
  {
   "cell_type": "markdown",
   "id": "joint-victorian",
   "metadata": {},
   "source": [
    "### 2)  이미지 사이즈 조절 함수 정의"
   ]
  },
  {
   "cell_type": "code",
   "execution_count": 12,
   "id": "adolescent-engine",
   "metadata": {},
   "outputs": [],
   "source": [
    "# 이미지 사이즈 조절 함수 정의\n",
    "def resize_images(img_path):\n",
    "\timages=glob.glob(img_path + \"/*.jpg\")  \n",
    "    \n",
    "\tprint(len(images), \" images to be resized.\")\n",
    "\n",
    "    # 파일마다 모두 28x28 사이즈로 바꾸어 저장합니다.\n",
    "\ttarget_size=(28,28)\n",
    "\tfor img in images:\n",
    "\t\told_img=Image.open(img)\n",
    "\t\tnew_img=old_img.resize(target_size,Image.ANTIALIAS)\n",
    "\t\tnew_img.save(img, \"JPEG\")\n",
    "    \n",
    "\tprint(len(images), \" images resized.\")"
   ]
  },
  {
   "cell_type": "markdown",
   "id": "potential-monster",
   "metadata": {},
   "source": [
    "### 3) 훈련용 이미지 정보 준비 및 사이즈 변경 ( 28 x 28 )"
   ]
  },
  {
   "cell_type": "code",
   "execution_count": 7,
   "id": "accepting-drain",
   "metadata": {},
   "outputs": [
    {
     "name": "stdout",
     "output_type": "stream",
     "text": [
      "100  images to be resized.\n",
      "100  images resized.\n",
      "100  images to be resized.\n",
      "100  images resized.\n",
      "100  images to be resized.\n",
      "100  images resized.\n"
     ]
    }
   ],
   "source": [
    "# 가위/바위/보 이미지 변환 \n",
    "image_dir_path = os.getenv(\"HOME\") + \"/aiffel/rock_scissor_paper/rock\"\n",
    "resize_images(image_dir_path)\n",
    "image_dir_path = os.getenv(\"HOME\") + \"/aiffel/rock_scissor_paper/paper\"\n",
    "resize_images(image_dir_path)\n",
    "image_dir_path = os.getenv(\"HOME\") + \"/aiffel/rock_scissor_paper/scissor\"\n",
    "resize_images(image_dir_path)"
   ]
  },
  {
   "cell_type": "markdown",
   "id": "eight-shooting",
   "metadata": {},
   "source": [
    "## 2. 데이터 로드 및 전처리\n",
    " 1) 데이터 로드 함수정의\n",
    " 2) 데이터이미지 로드\n",
    " 3) 데이터 정규화"
   ]
  },
  {
   "cell_type": "markdown",
   "id": "responsible-flower",
   "metadata": {},
   "source": [
    "### 1) 데이터 로드 함수 정의"
   ]
  },
  {
   "cell_type": "code",
   "execution_count": 13,
   "id": "connected-imagination",
   "metadata": {},
   "outputs": [],
   "source": [
    "def load_data(img_path, number_of_data=300):  # 가위바위보 이미지 개수 총합에 주의하세요.\n",
    "    # 가위 : 0, 바위 : 1, 보 : 2\n",
    "    img_size=28\n",
    "    color=3\n",
    "    #이미지 데이터와 라벨(가위 : 0, 바위 : 1, 보 : 2) 데이터를 담을 행렬(matrix) 영역을 생성합니다.\n",
    "    imgs=np.zeros(number_of_data*img_size*img_size*color,dtype=np.int32).reshape(number_of_data,img_size,img_size,color)\n",
    "    labels=np.zeros(number_of_data,dtype=np.int32)\n",
    "\n",
    "    idx=0\n",
    "    for file in glob.iglob(img_path+'/scissor/*.jpg'):\n",
    "        img = np.array(Image.open(file),dtype=np.int32)\n",
    "        imgs[idx,:,:,:]=img    # 데이터 영역에 이미지 행렬을 복사\n",
    "        labels[idx]=0   # 가위 : 0\n",
    "        idx=idx+1\n",
    "\n",
    "    for file in glob.iglob(img_path+'/rock/*.jpg'):\n",
    "        img = np.array(Image.open(file),dtype=np.int32)\n",
    "        imgs[idx,:,:,:]=img    # 데이터 영역에 이미지 행렬을 복사\n",
    "        labels[idx]=1   # 바위 : 1\n",
    "        idx=idx+1  \n",
    "    \n",
    "    for file in glob.iglob(img_path+'/paper/*.jpg'):\n",
    "        img = np.array(Image.open(file),dtype=np.int32)\n",
    "        imgs[idx,:,:,:]=img    # 데이터 영역에 이미지 행렬을 복사\n",
    "        labels[idx]=2   # 보 : 2\n",
    "        idx=idx+1\n",
    "        \n",
    "    print(\"학습데이터(x_train)의 이미지 개수는\", idx,\"입니다.\")\n",
    "    return imgs, labels    "
   ]
  },
  {
   "cell_type": "markdown",
   "id": "unsigned-terror",
   "metadata": {},
   "source": [
    "### 2) 데이터이미지 로드"
   ]
  },
  {
   "cell_type": "code",
   "execution_count": 14,
   "id": "treated-philip",
   "metadata": {},
   "outputs": [
    {
     "name": "stdout",
     "output_type": "stream",
     "text": [
      "학습데이터(x_train)의 이미지 개수는 300 입니다.\n"
     ]
    }
   ],
   "source": [
    "# 데이터 로드 및 전처리\n",
    "image_dir_path = os.getenv(\"HOME\") + \"/aiffel/rock_scissor_paper/\"\n",
    "(x_train, y_train)=load_data(image_dir_path)"
   ]
  },
  {
   "cell_type": "markdown",
   "id": "monetary-africa",
   "metadata": {},
   "source": [
    "### 3) 데이터 정규화 \n"
   ]
  },
  {
   "cell_type": "code",
   "execution_count": 15,
   "id": "known-canyon",
   "metadata": {},
   "outputs": [
    {
     "name": "stdout",
     "output_type": "stream",
     "text": [
      "x_train shape: (300, 28, 28, 3)\n",
      "y_train shape: (300,)\n",
      "라벨:  0\n"
     ]
    },
    {
     "data": {
      "image/png": "[encoded data removed]",
      "text/plain": [
       "<Figure size 432x288 with 1 Axes>"
      ]
     },
     "metadata": {
      "needs_background": "light"
     },
     "output_type": "display_data"
    }
   ],
   "source": [
    "x_train_norm = x_train/255.0   # 입력은 0~1 사이의 값으로 정규화\n",
    "print(\"x_train shape: {}\".format(x_train.shape))\n",
    "print(\"y_train shape: {}\".format(y_train.shape))\n",
    "\n",
    "# 이미지 확인\n",
    "plt.imshow(x_train[0])\n",
    "print('라벨: ', y_train[0])"
   ]
  },
  {
   "cell_type": "markdown",
   "id": "collectible-spare",
   "metadata": {},
   "source": [
    "## 3. 딥러닝 네트워크 설계하기"
   ]
  },
  {
   "cell_type": "code",
   "execution_count": 16,
   "id": "central-mortality",
   "metadata": {},
   "outputs": [
    {
     "name": "stdout",
     "output_type": "stream",
     "text": [
      "Model: \"sequential\"\n",
      "_________________________________________________________________\n",
      "Layer (type)                 Output Shape              Param #   \n",
      "=================================================================\n",
      "conv2d (Conv2D)              (None, 26, 26, 16)        448       \n",
      "_________________________________________________________________\n",
      "max_pooling2d (MaxPooling2D) (None, 13, 13, 16)        0         \n",
      "_________________________________________________________________\n",
      "conv2d_1 (Conv2D)            (None, 11, 11, 32)        4640      \n",
      "_________________________________________________________________\n",
      "max_pooling2d_1 (MaxPooling2 (None, 5, 5, 32)          0         \n",
      "_________________________________________________________________\n",
      "flatten (Flatten)            (None, 800)               0         \n",
      "_________________________________________________________________\n",
      "dense (Dense)                (None, 32)                25632     \n",
      "_________________________________________________________________\n",
      "dense_1 (Dense)              (None, 10)                330       \n",
      "=================================================================\n",
      "Total params: 31,050\n",
      "Trainable params: 31,050\n",
      "Non-trainable params: 0\n",
      "_________________________________________________________________\n"
     ]
    }
   ],
   "source": [
    "# 딥러닝 네트워크 설계하기\n",
    "import tensorflow as tf\n",
    "from tensorflow import keras\n",
    "\n",
    "# model 생성\n",
    "n_channel_1=16\n",
    "n_channel_2=32\n",
    "n_dense=32\n",
    "n_train_epoch=10\n",
    "\n",
    "model=keras.models.Sequential()\n",
    "model.add(keras.layers.Conv2D(n_channel_1, (3,3), activation='relu', input_shape=(28,28,3)))\n",
    "model.add(keras.layers.MaxPool2D(2,2))\n",
    "model.add(keras.layers.Conv2D(n_channel_2, (3,3), activation='relu'))\n",
    "model.add(keras.layers.MaxPooling2D((2,2)))\n",
    "model.add(keras.layers.Flatten())\n",
    "model.add(keras.layers.Dense(n_dense, activation='relu'))\n",
    "model.add(keras.layers.Dense(10, activation='softmax'))\n",
    "\n",
    "model.summary()"
   ]
  },
  {
   "cell_type": "code",
   "execution_count": 17,
   "id": "american-encounter",
   "metadata": {},
   "outputs": [
    {
     "data": {
      "text/plain": [
       "(300,)"
      ]
     },
     "execution_count": 17,
     "metadata": {},
     "output_type": "execute_result"
    }
   ],
   "source": [
    "# 데이터 확인\n",
    "x_train_norm.shape\n",
    "y_train.shape"
   ]
  },
  {
   "cell_type": "markdown",
   "id": "efficient-society",
   "metadata": {},
   "source": [
    "## 4. 딥러닝 학습시키기"
   ]
  },
  {
   "cell_type": "code",
   "execution_count": 18,
   "id": "military-creek",
   "metadata": {},
   "outputs": [
    {
     "name": "stdout",
     "output_type": "stream",
     "text": [
      "Epoch 1/10\n",
      "10/10 [==============================] - 5s 175ms/step - loss: 2.1462 - accuracy: 0.2456\n",
      "Epoch 2/10\n",
      "10/10 [==============================] - 0s 3ms/step - loss: 1.3753 - accuracy: 0.3607\n",
      "Epoch 3/10\n",
      "10/10 [==============================] - 0s 3ms/step - loss: 1.1038 - accuracy: 0.3729\n",
      "Epoch 4/10\n",
      "10/10 [==============================] - 0s 3ms/step - loss: 1.0370 - accuracy: 0.6080\n",
      "Epoch 5/10\n",
      "10/10 [==============================] - 0s 3ms/step - loss: 0.9829 - accuracy: 0.6151\n",
      "Epoch 6/10\n",
      "10/10 [==============================] - 0s 3ms/step - loss: 0.8517 - accuracy: 0.8402\n",
      "Epoch 7/10\n",
      "10/10 [==============================] - 0s 3ms/step - loss: 0.7036 - accuracy: 0.9067\n",
      "Epoch 8/10\n",
      "10/10 [==============================] - 0s 3ms/step - loss: 0.5742 - accuracy: 0.9036\n",
      "Epoch 9/10\n",
      "10/10 [==============================] - 0s 3ms/step - loss: 0.4336 - accuracy: 0.9008\n",
      "Epoch 10/10\n",
      "10/10 [==============================] - 0s 3ms/step - loss: 0.3313 - accuracy: 0.9396\n"
     ]
    },
    {
     "data": {
      "text/plain": [
       "<tensorflow.python.keras.callbacks.History at 0x7f0c198b9310>"
      ]
     },
     "execution_count": 18,
     "metadata": {},
     "output_type": "execute_result"
    }
   ],
   "source": [
    "# 딥러닝 네트워크 학습시키기\n",
    "model.compile(optimizer='adam',\n",
    "             loss='sparse_categorical_crossentropy',\n",
    "             metrics=['accuracy'])\n",
    "\n",
    "model.fit(x_train_norm, y_train, epochs=10)"
   ]
  },
  {
   "cell_type": "markdown",
   "id": "renewable-nashville",
   "metadata": {},
   "source": [
    "## 5. 테스트 데이터 준비"
   ]
  },
  {
   "cell_type": "code",
   "execution_count": 19,
   "id": "vulnerable-shape",
   "metadata": {},
   "outputs": [
    {
     "name": "stdout",
     "output_type": "stream",
     "text": [
      "학습데이터(x_train)의 이미지 개수는 300 입니다.\n",
      "x_test shape: (300, 28, 28, 3)\n",
      "y_test shape: (300,)\n",
      "라벨:  0\n"
     ]
    },
    {
     "data": {
      "image/png": "[encoded data removed]",
      "text/plain": [
       "<Figure size 432x288 with 1 Axes>"
      ]
     },
     "metadata": {
      "needs_background": "light"
     },
     "output_type": "display_data"
    }
   ],
   "source": [
    "# 테스트 데이터 준비 ( '/aiffel/rock_scissor_paper/test/' )\n",
    "test_image_dir_path = os.getenv(\"HOME\") + \"/aiffel/rock_scissor_paper/test/\"\n",
    "(x_test, y_test)=load_data(test_image_dir_path)\n",
    "x_test_norm = x_test/255.0   # 입력은 0~1 사이의 값으로 정규화\n",
    "\n",
    "print(\"x_test shape: {}\".format(x_test.shape))\n",
    "print(\"y_test shape: {}\".format(y_test.shape))\n",
    "\n",
    "# 이미지 확인\n",
    "plt.imshow(x_test[0])\n",
    "print('라벨: ', y_test[0])"
   ]
  },
  {
   "cell_type": "markdown",
   "id": "loving-circulation",
   "metadata": {},
   "source": [
    "## 6. 테스트 수행"
   ]
  },
  {
   "cell_type": "code",
   "execution_count": 20,
   "id": "studied-medication",
   "metadata": {},
   "outputs": [
    {
     "name": "stdout",
     "output_type": "stream",
     "text": [
      "10/10 - 0s - loss: 1.1989 - accuracy: 0.3867\n",
      "test_loss: 1.1988725662231445 \n",
      "test_accuracy: 0.3866666555404663\n"
     ]
    }
   ],
   "source": [
    "# 테스트 데이터로 성능확인 ( 첫번째 테스트 데이터 )\n",
    "test_loss, test_accuracy = model.evaluate(x_test_norm, y_test, verbose=2)\n",
    "print(\"test_loss: {} \".format(test_loss))\n",
    "print(\"test_accuracy: {}\".format(test_accuracy))"
   ]
  },
  {
   "cell_type": "markdown",
   "id": "original-momentum",
   "metadata": {},
   "source": [
    "## 7. 테스트 결과 확인"
   ]
  },
  {
   "cell_type": "code",
   "execution_count": 21,
   "id": "mounted-desert",
   "metadata": {},
   "outputs": [
    {
     "name": "stdout",
     "output_type": "stream",
     "text": [
      "model.predict() 결과 :  [2.2985351e-01 4.4213957e-01 3.2799137e-01 1.0982813e-05 4.2401857e-07\n",
      " 5.5785741e-11 4.8992238e-08 3.6643030e-06 4.2619402e-07 1.0488206e-08]\n",
      "model이 추론한 가장 가능성이 높은 결과 :  1\n",
      "실제 데이터의 라벨 :  0\n"
     ]
    }
   ],
   "source": [
    "predicted_result = model.predict(x_test_norm)  # model이 추론한 확률값. \n",
    "predicted_labels = np.argmax(predicted_result, axis=1)\n",
    "\n",
    "idx=0  #1번째 x_test를 살펴보자. \n",
    "print('model.predict() 결과 : ', predicted_result[idx])\n",
    "print('model이 추론한 가장 가능성이 높은 결과 : ', predicted_labels[idx])\n",
    "print('실제 데이터의 라벨 : ', y_test[idx])"
   ]
  },
  {
   "cell_type": "markdown",
   "id": "sharp-folks",
   "metadata": {},
   "source": [
    "### 1) 테스트 결과 가장 가능성 높은 이미지"
   ]
  },
  {
   "cell_type": "code",
   "execution_count": 22,
   "id": "expected-prize",
   "metadata": {},
   "outputs": [
    {
     "data": {
      "image/png": "[encoded data removed]",
      "text/plain": [
       "<Figure size 432x288 with 1 Axes>"
      ]
     },
     "metadata": {
      "needs_background": "light"
     },
     "output_type": "display_data"
    }
   ],
   "source": [
    "plt.imshow(x_test[idx],cmap=plt.cm.binary)\n",
    "plt.show()"
   ]
  },
  {
   "cell_type": "markdown",
   "id": "abroad-duration",
   "metadata": {},
   "source": [
    "### 2) 테스트 결과와 다르게 예측한 이미지 "
   ]
  },
  {
   "cell_type": "code",
   "execution_count": 24,
   "id": "declared-robert",
   "metadata": {},
   "outputs": [
    {
     "name": "stdout",
     "output_type": "stream",
     "text": [
      "예측확률분포: [2.8125867e-01 1.2883335e-01 5.8989245e-01 1.1528134e-05 3.9339957e-07\n",
      " 4.1712148e-11 3.9541472e-08 2.8256727e-06 7.8665175e-07 7.8273485e-09]\n",
      "라벨: 0, 예측결과: 2\n"
     ]
    },
    {
     "data": {
      "image/png": "[encoded data removed]",
      "text/plain": [
       "<Figure size 432x288 with 1 Axes>"
      ]
     },
     "metadata": {
      "needs_background": "light"
     },
     "output_type": "display_data"
    },
    {
     "name": "stdout",
     "output_type": "stream",
     "text": [
      "예측확률분포: [4.45761293e-01 3.94247919e-01 1.59983262e-01 5.26312897e-06\n",
      " 1.04732315e-07 4.99599580e-12 7.76932829e-09 1.99061424e-06\n",
      " 9.48664081e-08 1.69095060e-09]\n",
      "라벨: 1, 예측결과: 0\n"
     ]
    },
    {
     "data": {
      "image/png": "[encoded data removed]",
      "text/plain": [
       "<Figure size 432x288 with 1 Axes>"
      ]
     },
     "metadata": {
      "needs_background": "light"
     },
     "output_type": "display_data"
    },
    {
     "name": "stdout",
     "output_type": "stream",
     "text": [
      "예측확률분포: [4.3788844e-01 2.7711477e-02 5.3439343e-01 5.6814119e-06 1.1914924e-07\n",
      " 4.1902410e-12 5.6893468e-09 5.7338275e-07 3.2271484e-07 9.4608177e-10]\n",
      "라벨: 1, 예측결과: 2\n"
     ]
    },
    {
     "data": {
      "image/png": "[encoded data removed]",
      "text/plain": [
       "<Figure size 432x288 with 1 Axes>"
      ]
     },
     "metadata": {
      "needs_background": "light"
     },
     "output_type": "display_data"
    },
    {
     "name": "stdout",
     "output_type": "stream",
     "text": [
      "예측확률분포: [1.4781092e-01 6.2770861e-01 2.2444417e-01 2.6057860e-05 7.2089193e-07\n",
      " 2.8943151e-10 1.6861371e-07 8.5984129e-06 7.5262835e-07 2.0174134e-08]\n",
      "라벨: 2, 예측결과: 1\n"
     ]
    },
    {
     "data": {
      "image/png": "[encoded data removed]",
      "text/plain": [
       "<Figure size 432x288 with 1 Axes>"
      ]
     },
     "metadata": {
      "needs_background": "light"
     },
     "output_type": "display_data"
    },
    {
     "name": "stdout",
     "output_type": "stream",
     "text": [
      "예측확률분포: [7.3387474e-02 1.8083706e-01 7.4576622e-01 7.2410216e-06 2.5093473e-07\n",
      " 3.1734070e-11 4.8889991e-08 1.2565142e-06 4.4416529e-07 3.0520830e-09]\n",
      "라벨: 1, 예측결과: 2\n"
     ]
    },
    {
     "data": {
      "image/png": "[encoded data removed]",
      "text/plain": [
       "<Figure size 432x288 with 1 Axes>"
      ]
     },
     "metadata": {
      "needs_background": "light"
     },
     "output_type": "display_data"
    }
   ],
   "source": [
    "# 오류 데이터 5개만 추출\n",
    "import random\n",
    "wrong_predict_list=[]\n",
    "for i, _ in enumerate(predicted_labels):\n",
    "    # i번째 test_labels과 y_test이 다른 경우만 모아 봅시다. \n",
    "    if predicted_labels[i] != y_test[i]:\n",
    "        wrong_predict_list.append(i)\n",
    "\n",
    "# wrong_predict_list 에서 랜덤하게 5개만 뽑아봅시다.\n",
    "samples = random.choices(population=wrong_predict_list, k=5)\n",
    "\n",
    "for n in samples:\n",
    "    print(\"예측확률분포: \" + str(predicted_result[n]))\n",
    "    print(\"라벨: \" + str(y_test[n]) + \", 예측결과: \" + str(predicted_labels[n]))\n",
    "    plt.imshow(x_test[n], cmap=plt.cm.binary)\n",
    "    plt.show()"
   ]
  },
  {
   "cell_type": "markdown",
   "id": "destroyed-albert",
   "metadata": {},
   "source": [
    "## 8. 더 좋은 네트워크 만들기"
   ]
  },
  {
   "cell_type": "markdown",
   "id": "available-vehicle",
   "metadata": {},
   "source": [
    "### 1) 하이퍼파라미터 조정 ( 16 / 32 / 32 / 10 => loss: 1.1024 - accuracy: 0.4200 )"
   ]
  },
  {
   "cell_type": "code",
   "execution_count": 25,
   "id": "further-florist",
   "metadata": {},
   "outputs": [
    {
     "name": "stdout",
     "output_type": "stream",
     "text": [
      "Model: \"sequential_1\"\n",
      "_________________________________________________________________\n",
      "Layer (type)                 Output Shape              Param #   \n",
      "=================================================================\n",
      "conv2d_2 (Conv2D)            (None, 26, 26, 16)        448       \n",
      "_________________________________________________________________\n",
      "max_pooling2d_2 (MaxPooling2 (None, 13, 13, 16)        0         \n",
      "_________________________________________________________________\n",
      "conv2d_3 (Conv2D)            (None, 11, 11, 32)        4640      \n",
      "_________________________________________________________________\n",
      "max_pooling2d_3 (MaxPooling2 (None, 5, 5, 32)          0         \n",
      "_________________________________________________________________\n",
      "flatten_1 (Flatten)          (None, 800)               0         \n",
      "_________________________________________________________________\n",
      "dense_2 (Dense)              (None, 32)                25632     \n",
      "_________________________________________________________________\n",
      "dense_3 (Dense)              (None, 10)                330       \n",
      "=================================================================\n",
      "Total params: 31,050\n",
      "Trainable params: 31,050\n",
      "Non-trainable params: 0\n",
      "_________________________________________________________________\n",
      "Epoch 1/10\n",
      "10/10 [==============================] - 0s 3ms/step - loss: 2.1320 - accuracy: 0.2061\n",
      "Epoch 2/10\n",
      "10/10 [==============================] - 0s 3ms/step - loss: 1.3770 - accuracy: 0.3741\n",
      "Epoch 3/10\n",
      "10/10 [==============================] - 0s 3ms/step - loss: 1.0530 - accuracy: 0.4242\n",
      "Epoch 4/10\n",
      "10/10 [==============================] - 0s 3ms/step - loss: 0.9832 - accuracy: 0.5665\n",
      "Epoch 5/10\n",
      "10/10 [==============================] - 0s 3ms/step - loss: 0.9553 - accuracy: 0.4630\n",
      "Epoch 6/10\n",
      "10/10 [==============================] - 0s 5ms/step - loss: 0.8705 - accuracy: 0.6236\n",
      "Epoch 7/10\n",
      "10/10 [==============================] - 0s 3ms/step - loss: 0.6963 - accuracy: 0.9252\n",
      "Epoch 8/10\n",
      "10/10 [==============================] - 0s 3ms/step - loss: 0.5632 - accuracy: 0.9204\n",
      "Epoch 9/10\n",
      "10/10 [==============================] - 0s 4ms/step - loss: 0.4023 - accuracy: 0.9654\n",
      "Epoch 10/10\n",
      "10/10 [==============================] - 0s 3ms/step - loss: 0.2898 - accuracy: 0.9494\n",
      "10/10 - 0s - loss: 1.1024 - accuracy: 0.4200\n",
      "test_loss: 1.102360486984253 \n",
      "test_accuracy: 0.41999998688697815\n"
     ]
    }
   ],
   "source": [
    "# 더 좋은 네트워크 만들어 보기\n",
    "\n",
    "# 바꿔 볼 수 있는 하이퍼파라미터들 \n",
    "# 16 / 32 / 32 / 10 ( loss: 1.1081 - accuracy: 0.3933 )\n",
    "n_channel_1=16\n",
    "n_channel_2=32\n",
    "n_dense=32\n",
    "n_train_epoch=10\n",
    "\n",
    "model=keras.models.Sequential()\n",
    "model.add(keras.layers.Conv2D(n_channel_1, (3,3), activation='relu', input_shape=(28,28,3)))\n",
    "model.add(keras.layers.MaxPool2D(2,2))\n",
    "model.add(keras.layers.Conv2D(n_channel_2, (3,3), activation='relu'))\n",
    "model.add(keras.layers.MaxPooling2D((2,2)))\n",
    "model.add(keras.layers.Flatten())\n",
    "model.add(keras.layers.Dense(n_dense, activation='relu'))\n",
    "model.add(keras.layers.Dense(10, activation='softmax'))\n",
    "\n",
    "model.summary()\n",
    "model.compile(optimizer='adam',\n",
    "             loss='sparse_categorical_crossentropy',\n",
    "             metrics=['accuracy'])\n",
    "\n",
    "# 모델 훈련\n",
    "model.fit(x_train_norm, y_train, epochs=n_train_epoch)\n",
    "\n",
    "# 모델 시험\n",
    "test_loss, test_accuracy = model.evaluate(x_test_norm, y_test, verbose=2)\n",
    "print(\"test_loss: {} \".format(test_loss))\n",
    "print(\"test_accuracy: {}\".format(test_accuracy))\n"
   ]
  },
  {
   "cell_type": "markdown",
   "id": "welcome-envelope",
   "metadata": {},
   "source": [
    "### 2) 하이퍼파라미터 조정 ( 32 / 32 / 32 / 10 => loss: 1.0850 - accuracy: 0.4567 )"
   ]
  },
  {
   "cell_type": "code",
   "execution_count": 26,
   "id": "forbidden-sunday",
   "metadata": {},
   "outputs": [
    {
     "name": "stdout",
     "output_type": "stream",
     "text": [
      "Model: \"sequential_2\"\n",
      "_________________________________________________________________\n",
      "Layer (type)                 Output Shape              Param #   \n",
      "=================================================================\n",
      "conv2d_4 (Conv2D)            (None, 26, 26, 32)        896       \n",
      "_________________________________________________________________\n",
      "max_pooling2d_4 (MaxPooling2 (None, 13, 13, 32)        0         \n",
      "_________________________________________________________________\n",
      "conv2d_5 (Conv2D)            (None, 11, 11, 32)        9248      \n",
      "_________________________________________________________________\n",
      "max_pooling2d_5 (MaxPooling2 (None, 5, 5, 32)          0         \n",
      "_________________________________________________________________\n",
      "flatten_2 (Flatten)          (None, 800)               0         \n",
      "_________________________________________________________________\n",
      "dense_4 (Dense)              (None, 32)                25632     \n",
      "_________________________________________________________________\n",
      "dense_5 (Dense)              (None, 10)                330       \n",
      "=================================================================\n",
      "Total params: 36,106\n",
      "Trainable params: 36,106\n",
      "Non-trainable params: 0\n",
      "_________________________________________________________________\n",
      "Epoch 1/10\n",
      "10/10 [==============================] - 4s 186ms/step - loss: 2.2001 - accuracy: 0.2237\n",
      "Epoch 2/10\n",
      "10/10 [==============================] - 0s 3ms/step - loss: 1.4618 - accuracy: 0.3115\n",
      "Epoch 3/10\n",
      "10/10 [==============================] - 0s 4ms/step - loss: 1.0850 - accuracy: 0.4926\n",
      "Epoch 4/10\n",
      "10/10 [==============================] - 0s 3ms/step - loss: 1.0478 - accuracy: 0.4217\n",
      "Epoch 5/10\n",
      "10/10 [==============================] - 0s 3ms/step - loss: 0.9184 - accuracy: 0.7660\n",
      "Epoch 6/10\n",
      "10/10 [==============================] - 0s 3ms/step - loss: 0.8283 - accuracy: 0.6255\n",
      "Epoch 7/10\n",
      "10/10 [==============================] - 0s 3ms/step - loss: 0.7262 - accuracy: 0.6992\n",
      "Epoch 8/10\n",
      "10/10 [==============================] - 0s 3ms/step - loss: 0.5948 - accuracy: 0.8537\n",
      "Epoch 9/10\n",
      "10/10 [==============================] - 0s 3ms/step - loss: 0.4322 - accuracy: 0.9387\n",
      "Epoch 10/10\n",
      "10/10 [==============================] - 0s 3ms/step - loss: 0.3528 - accuracy: 0.9398\n",
      "10/10 - 0s - loss: 1.0850 - accuracy: 0.4567\n",
      "test_loss: 1.085017442703247 \n",
      "test_accuracy: 0.4566666781902313\n"
     ]
    }
   ],
   "source": [
    "# 더 좋은 네트워크 만들어 보기\n",
    "n_channel_1=32\n",
    "n_channel_2=32\n",
    "n_dense=32\n",
    "n_train_epoch=10\n",
    "\n",
    "model=keras.models.Sequential()\n",
    "model.add(keras.layers.Conv2D(n_channel_1, (3,3), activation='relu', input_shape=(28,28,3)))\n",
    "model.add(keras.layers.MaxPool2D(2,2))\n",
    "model.add(keras.layers.Conv2D(n_channel_2, (3,3), activation='relu'))\n",
    "model.add(keras.layers.MaxPooling2D((2,2)))\n",
    "model.add(keras.layers.Flatten())\n",
    "model.add(keras.layers.Dense(n_dense, activation='relu'))\n",
    "model.add(keras.layers.Dense(10, activation='softmax'))\n",
    "\n",
    "model.summary()\n",
    "model.compile(optimizer='adam',\n",
    "             loss='sparse_categorical_crossentropy',\n",
    "             metrics=['accuracy'])\n",
    "\n",
    "# 모델 훈련\n",
    "model.fit(x_train_norm, y_train, epochs=n_train_epoch)\n",
    "\n",
    "# 모델 시험\n",
    "test_loss, test_accuracy = model.evaluate(x_test_norm, y_test, verbose=2)\n",
    "print(\"test_loss: {} \".format(test_loss))\n",
    "print(\"test_accuracy: {}\".format(test_accuracy))"
   ]
  },
  {
   "cell_type": "code",
   "execution_count": 28,
   "id": "defined-british",
   "metadata": {},
   "outputs": [],
   "source": [
    "### 3) 하이퍼파라미터 조정 ( 32 / 32 / 16 / 10 => loss: 1.2040 - accuracy: 0.4500 )"
   ]
  },
  {
   "cell_type": "code",
   "execution_count": 27,
   "id": "floppy-cholesterol",
   "metadata": {},
   "outputs": [
    {
     "name": "stdout",
     "output_type": "stream",
     "text": [
      "Model: \"sequential_3\"\n",
      "_________________________________________________________________\n",
      "Layer (type)                 Output Shape              Param #   \n",
      "=================================================================\n",
      "conv2d_6 (Conv2D)            (None, 26, 26, 32)        896       \n",
      "_________________________________________________________________\n",
      "max_pooling2d_6 (MaxPooling2 (None, 13, 13, 32)        0         \n",
      "_________________________________________________________________\n",
      "conv2d_7 (Conv2D)            (None, 11, 11, 32)        9248      \n",
      "_________________________________________________________________\n",
      "max_pooling2d_7 (MaxPooling2 (None, 5, 5, 32)          0         \n",
      "_________________________________________________________________\n",
      "flatten_3 (Flatten)          (None, 800)               0         \n",
      "_________________________________________________________________\n",
      "dense_6 (Dense)              (None, 16)                12816     \n",
      "_________________________________________________________________\n",
      "dense_7 (Dense)              (None, 10)                170       \n",
      "=================================================================\n",
      "Total params: 23,130\n",
      "Trainable params: 23,130\n",
      "Non-trainable params: 0\n",
      "_________________________________________________________________\n",
      "Epoch 1/10\n",
      "10/10 [==============================] - 0s 3ms/step - loss: 2.1656 - accuracy: 0.2305\n",
      "Epoch 2/10\n",
      "10/10 [==============================] - 0s 3ms/step - loss: 1.5101 - accuracy: 0.3303\n",
      "Epoch 3/10\n",
      "10/10 [==============================] - 0s 3ms/step - loss: 1.1358 - accuracy: 0.3505\n",
      "Epoch 4/10\n",
      "10/10 [==============================] - 0s 3ms/step - loss: 1.0707 - accuracy: 0.3450\n",
      "Epoch 5/10\n",
      "10/10 [==============================] - 0s 3ms/step - loss: 1.0775 - accuracy: 0.4374\n",
      "Epoch 6/10\n",
      "10/10 [==============================] - 0s 3ms/step - loss: 0.9925 - accuracy: 0.6078\n",
      "Epoch 7/10\n",
      "10/10 [==============================] - 0s 3ms/step - loss: 0.8601 - accuracy: 0.8535\n",
      "Epoch 8/10\n",
      "10/10 [==============================] - 0s 3ms/step - loss: 0.7642 - accuracy: 0.9198\n",
      "Epoch 9/10\n",
      "10/10 [==============================] - 0s 3ms/step - loss: 0.6613 - accuracy: 0.9061\n",
      "Epoch 10/10\n",
      "10/10 [==============================] - 0s 3ms/step - loss: 0.5255 - accuracy: 0.9141\n",
      "10/10 - 0s - loss: 1.2040 - accuracy: 0.4500\n",
      "test_loss: 1.2039611339569092 \n",
      "test_accuracy: 0.44999998807907104\n"
     ]
    }
   ],
   "source": [
    "# 더 좋은 네트워크 만들어 보기\n",
    "n_channel_1=32\n",
    "n_channel_2=32\n",
    "n_dense=16\n",
    "n_train_epoch=10\n",
    "\n",
    "model=keras.models.Sequential()\n",
    "model.add(keras.layers.Conv2D(n_channel_1, (3,3), activation='relu', input_shape=(28,28,3)))\n",
    "model.add(keras.layers.MaxPool2D(2,2))\n",
    "model.add(keras.layers.Conv2D(n_channel_2, (3,3), activation='relu'))\n",
    "model.add(keras.layers.MaxPooling2D((2,2)))\n",
    "model.add(keras.layers.Flatten())\n",
    "model.add(keras.layers.Dense(n_dense, activation='relu'))\n",
    "model.add(keras.layers.Dense(10, activation='softmax'))\n",
    "\n",
    "model.summary()\n",
    "model.compile(optimizer='adam',\n",
    "             loss='sparse_categorical_crossentropy',\n",
    "             metrics=['accuracy'])\n",
    "\n",
    "# 모델 훈련\n",
    "model.fit(x_train_norm, y_train, epochs=n_train_epoch)\n",
    "\n",
    "# 모델 시험\n",
    "test_loss, test_accuracy = model.evaluate(x_test_norm, y_test, verbose=2)\n",
    "print(\"test_loss: {} \".format(test_loss))\n",
    "print(\"test_accuracy: {}\".format(test_accuracy))\n"
   ]
  },
  {
   "cell_type": "markdown",
   "id": "impossible-january",
   "metadata": {},
   "source": [
    "# **파라미터 조정만으로는 원하는 수치가 나오지 않음** \n",
    " * 추가 데이터 학습 진행 : 전지은님이 모아주신 3,207 개의 데이터로 추가학습 결정"
   ]
  },
  {
   "cell_type": "markdown",
   "id": "stupid-procurement",
   "metadata": {},
   "source": [
    "# 9. 추가 데이터 준비 ( 3,207, /rock_scissor_paper_others/ ) "
   ]
  },
  {
   "cell_type": "code",
   "execution_count": 29,
   "id": "tamil-corporation",
   "metadata": {},
   "outputs": [
    {
     "name": "stdout",
     "output_type": "stream",
     "text": [
      "학습데이터(x_train)의 이미지 개수는 3207 입니다.\n",
      "x_add_train shape: (3207, 28, 28, 3)\n",
      "y_add_train shape: (3207,)\n",
      "다른 사람의 데이터 라벨:  0\n"
     ]
    },
    {
     "data": {
      "image/png": "[encoded data removed]",
      "text/plain": [
       "<Figure size 432x288 with 1 Axes>"
      ]
     },
     "metadata": {
      "needs_background": "light"
     },
     "output_type": "display_data"
    }
   ],
   "source": [
    "# 추가 데이터 준비 ( 3,207 )\n",
    "other_image_dir_path = os.getenv(\"HOME\") + \"/aiffel/rock_scissor_paper_others/\"\n",
    "(x_add_train, y_add_train)=load_data(other_image_dir_path, 3207)\n",
    "\n",
    "# 데이터 정규화\n",
    "x_add_train_norm = x_add_train/255.0   # 입력은 0~1 사이의 값으로 정규화\n",
    "\n",
    "print(\"x_add_train shape: {}\".format(x_add_train.shape))\n",
    "print(\"y_add_train shape: {}\".format(y_add_train.shape))\n",
    "\n",
    "# 이미지 확인\n",
    "plt.imshow(x_add_train[0])\n",
    "print('다른 사람의 데이터 라벨: ', y_add_train[0])"
   ]
  },
  {
   "cell_type": "markdown",
   "id": "popular-birmingham",
   "metadata": {},
   "source": [
    "# 10. 추가된 데이터로 모델 훈련 및 시험 ( 16 / 32 / 32 / 10 =>  loss: 0.3058 - accuracy: 0.9167 )"
   ]
  },
  {
   "cell_type": "code",
   "execution_count": 30,
   "id": "verified-shipping",
   "metadata": {},
   "outputs": [
    {
     "name": "stdout",
     "output_type": "stream",
     "text": [
      "Model: \"sequential_4\"\n",
      "_________________________________________________________________\n",
      "Layer (type)                 Output Shape              Param #   \n",
      "=================================================================\n",
      "conv2d_8 (Conv2D)            (None, 26, 26, 16)        448       \n",
      "_________________________________________________________________\n",
      "max_pooling2d_8 (MaxPooling2 (None, 13, 13, 16)        0         \n",
      "_________________________________________________________________\n",
      "conv2d_9 (Conv2D)            (None, 11, 11, 32)        4640      \n",
      "_________________________________________________________________\n",
      "max_pooling2d_9 (MaxPooling2 (None, 5, 5, 32)          0         \n",
      "_________________________________________________________________\n",
      "flatten_4 (Flatten)          (None, 800)               0         \n",
      "_________________________________________________________________\n",
      "dense_8 (Dense)              (None, 32)                25632     \n",
      "_________________________________________________________________\n",
      "dense_9 (Dense)              (None, 10)                330       \n",
      "=================================================================\n",
      "Total params: 31,050\n",
      "Trainable params: 31,050\n",
      "Non-trainable params: 0\n",
      "_________________________________________________________________\n",
      "Epoch 1/10\n",
      "101/101 [==============================] - 2s 20ms/step - loss: 1.5210 - accuracy: 0.3390\n",
      "Epoch 2/10\n",
      "101/101 [==============================] - 0s 3ms/step - loss: 1.0732 - accuracy: 0.4301\n",
      "Epoch 3/10\n",
      "101/101 [==============================] - 0s 3ms/step - loss: 0.9444 - accuracy: 0.5431\n",
      "Epoch 4/10\n",
      "101/101 [==============================] - 0s 3ms/step - loss: 0.8515 - accuracy: 0.6180\n",
      "Epoch 5/10\n",
      "101/101 [==============================] - 0s 3ms/step - loss: 0.7170 - accuracy: 0.6922\n",
      "Epoch 6/10\n",
      "101/101 [==============================] - 0s 3ms/step - loss: 0.6105 - accuracy: 0.7498\n",
      "Epoch 7/10\n",
      "101/101 [==============================] - 0s 3ms/step - loss: 0.5352 - accuracy: 0.7912\n",
      "Epoch 8/10\n",
      "101/101 [==============================] - 0s 3ms/step - loss: 0.4539 - accuracy: 0.8276\n",
      "Epoch 9/10\n",
      "101/101 [==============================] - 0s 3ms/step - loss: 0.4084 - accuracy: 0.8464\n",
      "Epoch 10/10\n",
      "101/101 [==============================] - 0s 3ms/step - loss: 0.3481 - accuracy: 0.8708\n",
      "10/10 - 0s - loss: 0.3058 - accuracy: 0.9167\n",
      "test_loss: 0.3057665526866913 \n",
      "test_accuracy: 0.9166666865348816\n"
     ]
    }
   ],
   "source": [
    "# 추가 데이터 학습\n",
    "n_channel_1=16\n",
    "n_channel_2=32\n",
    "n_dense=32\n",
    "n_train_epoch=10\n",
    "\n",
    "model=keras.models.Sequential()\n",
    "model.add(keras.layers.Conv2D(n_channel_1, (3,3), activation='relu', input_shape=(28,28,3)))\n",
    "model.add(keras.layers.MaxPool2D(2,2))\n",
    "model.add(keras.layers.Conv2D(n_channel_2, (3,3), activation='relu'))\n",
    "model.add(keras.layers.MaxPooling2D((2,2)))\n",
    "model.add(keras.layers.Flatten())\n",
    "model.add(keras.layers.Dense(n_dense, activation='relu'))\n",
    "model.add(keras.layers.Dense(10, activation='softmax'))\n",
    "\n",
    "model.summary()\n",
    "model.compile(optimizer='adam',\n",
    "             loss='sparse_categorical_crossentropy',\n",
    "             metrics=['accuracy'])\n",
    "\n",
    "# 모델 훈련\n",
    "model.fit(x_add_train_norm, y_add_train, epochs=n_train_epoch)\n",
    "\n",
    "# 모델 시험\n",
    "test_loss, test_accuracy = model.evaluate(x_test_norm, y_test, verbose=2)\n",
    "print(\"test_loss: {} \".format(test_loss))\n",
    "print(\"test_accuracy: {}\".format(test_accuracy))\n"
   ]
  },
  {
   "cell_type": "markdown",
   "id": "nasty-trance",
   "metadata": {},
   "source": [
    "# ** 훈련 횟수가 부족해보여서 훈련횟수 20회로 증가"
   ]
  },
  {
   "cell_type": "markdown",
   "id": "irish-depression",
   "metadata": {},
   "source": [
    "# 11. 하이퍼파라미터 조정 ( 16 / 32 / 32 / 20 => loss: 0.0960 - accuracy: 0.9800 )"
   ]
  },
  {
   "cell_type": "code",
   "execution_count": 31,
   "id": "settled-catalog",
   "metadata": {},
   "outputs": [
    {
     "name": "stdout",
     "output_type": "stream",
     "text": [
      "Model: \"sequential_5\"\n",
      "_________________________________________________________________\n",
      "Layer (type)                 Output Shape              Param #   \n",
      "=================================================================\n",
      "conv2d_10 (Conv2D)           (None, 26, 26, 16)        448       \n",
      "_________________________________________________________________\n",
      "max_pooling2d_10 (MaxPooling (None, 13, 13, 16)        0         \n",
      "_________________________________________________________________\n",
      "conv2d_11 (Conv2D)           (None, 11, 11, 32)        4640      \n",
      "_________________________________________________________________\n",
      "max_pooling2d_11 (MaxPooling (None, 5, 5, 32)          0         \n",
      "_________________________________________________________________\n",
      "flatten_5 (Flatten)          (None, 800)               0         \n",
      "_________________________________________________________________\n",
      "dense_10 (Dense)             (None, 32)                25632     \n",
      "_________________________________________________________________\n",
      "dense_11 (Dense)             (None, 10)                330       \n",
      "=================================================================\n",
      "Total params: 31,050\n",
      "Trainable params: 31,050\n",
      "Non-trainable params: 0\n",
      "_________________________________________________________________\n",
      "Epoch 1/20\n",
      "101/101 [==============================] - 1s 3ms/step - loss: 1.5956 - accuracy: 0.3271\n",
      "Epoch 2/20\n",
      "101/101 [==============================] - 0s 3ms/step - loss: 1.0470 - accuracy: 0.4413\n",
      "Epoch 3/20\n",
      "101/101 [==============================] - 0s 3ms/step - loss: 0.9602 - accuracy: 0.5201\n",
      "Epoch 4/20\n",
      "101/101 [==============================] - 0s 3ms/step - loss: 0.8249 - accuracy: 0.6063\n",
      "Epoch 5/20\n",
      "101/101 [==============================] - 0s 3ms/step - loss: 0.7185 - accuracy: 0.6838\n",
      "Epoch 6/20\n",
      "101/101 [==============================] - 0s 3ms/step - loss: 0.5941 - accuracy: 0.7706\n",
      "Epoch 7/20\n",
      "101/101 [==============================] - 0s 3ms/step - loss: 0.4873 - accuracy: 0.8192\n",
      "Epoch 8/20\n",
      "101/101 [==============================] - 0s 3ms/step - loss: 0.4175 - accuracy: 0.8491\n",
      "Epoch 9/20\n",
      "101/101 [==============================] - 0s 3ms/step - loss: 0.3788 - accuracy: 0.8591\n",
      "Epoch 10/20\n",
      "101/101 [==============================] - 0s 3ms/step - loss: 0.3413 - accuracy: 0.8698\n",
      "Epoch 11/20\n",
      "101/101 [==============================] - 0s 3ms/step - loss: 0.2695 - accuracy: 0.9009\n",
      "Epoch 12/20\n",
      "101/101 [==============================] - 0s 3ms/step - loss: 0.2243 - accuracy: 0.9299\n",
      "Epoch 13/20\n",
      "101/101 [==============================] - 0s 3ms/step - loss: 0.1891 - accuracy: 0.9471\n",
      "Epoch 14/20\n",
      "101/101 [==============================] - 0s 3ms/step - loss: 0.1716 - accuracy: 0.9504\n",
      "Epoch 15/20\n",
      "101/101 [==============================] - 0s 3ms/step - loss: 0.1556 - accuracy: 0.9493\n",
      "Epoch 16/20\n",
      "101/101 [==============================] - 0s 3ms/step - loss: 0.1353 - accuracy: 0.9620\n",
      "Epoch 17/20\n",
      "101/101 [==============================] - 0s 3ms/step - loss: 0.1253 - accuracy: 0.9600\n",
      "Epoch 18/20\n",
      "101/101 [==============================] - 0s 3ms/step - loss: 0.1067 - accuracy: 0.9705\n",
      "Epoch 19/20\n",
      "101/101 [==============================] - 0s 3ms/step - loss: 0.0933 - accuracy: 0.9747\n",
      "Epoch 20/20\n",
      "101/101 [==============================] - 0s 3ms/step - loss: 0.1042 - accuracy: 0.9656\n",
      "10/10 - 0s - loss: 0.0960 - accuracy: 0.9800\n",
      "test_loss: 0.09602944552898407 \n",
      "test_accuracy: 0.9800000190734863\n"
     ]
    }
   ],
   "source": [
    "# 추가 데이터 학습 ( 기본값 진행시 n_train_epoch : 10 증가 )\n",
    "n_channel_1=16\n",
    "n_channel_2=32\n",
    "n_dense=32\n",
    "n_train_epoch=20\n",
    "\n",
    "model=keras.models.Sequential()\n",
    "model.add(keras.layers.Conv2D(n_channel_1, (3,3), activation='relu', input_shape=(28,28,3)))\n",
    "model.add(keras.layers.MaxPool2D(2,2))\n",
    "model.add(keras.layers.Conv2D(n_channel_2, (3,3), activation='relu'))\n",
    "model.add(keras.layers.MaxPooling2D((2,2)))\n",
    "model.add(keras.layers.Flatten())\n",
    "model.add(keras.layers.Dense(n_dense, activation='relu'))\n",
    "model.add(keras.layers.Dense(10, activation='softmax'))\n",
    "\n",
    "model.summary()\n",
    "model.compile(optimizer='adam',\n",
    "             loss='sparse_categorical_crossentropy',\n",
    "             metrics=['accuracy'])\n",
    "\n",
    "# 모델 훈련\n",
    "model.fit(x_add_train_norm, y_add_train, epochs=n_train_epoch)\n",
    "\n",
    "# 모델 시험\n",
    "test_loss, test_accuracy = model.evaluate(x_test_norm, y_test, verbose=2)\n",
    "print(\"test_loss: {} \".format(test_loss))\n",
    "print(\"test_accuracy: {}\".format(test_accuracy))\n"
   ]
  },
  {
   "cell_type": "markdown",
   "id": "stunning-albuquerque",
   "metadata": {},
   "source": [
    "#  **test accuracy가 98%로 나옴!!!!!! - (맞게... 는 한건가?) ㅠㅠ\n",
    "   "
   ]
  },
  {
   "cell_type": "markdown",
   "id": "tender-evidence",
   "metadata": {},
   "source": [
    "# ** 회고 **"
   ]
  },
  {
   "cell_type": "markdown",
   "id": "rental-french",
   "metadata": {},
   "source": [
    "## 1. 이번 프로젝트에서 **어려웠던 점,**"
   ]
  },
  {
   "cell_type": "markdown",
   "id": "likely-nitrogen",
   "metadata": {},
   "source": [
    "* 처음으로 Exploration을 진행하다보니, 무엇을 어떻게 해야하는지를 잘 몰라서 난감했음\n",
    "* 첫 딥러닝 프로젝트여서 이해가 안 가는 부분이 많았고, 아직 주피터를 잘 못 사용하는 부분이 시간을 많이 잡아먹었음\n",
    "* kerasAPI를 처음 사용해보았으며, 하면서도 이게 맞게 하는건지에 대한 의문이 들었음\n",
    " ( 실제로 올바르게 한건지 잘 모르겠음 )"
   ]
  },
  {
   "cell_type": "markdown",
   "id": "prime-longer",
   "metadata": {},
   "source": [
    "## 2. 프로젝트를 진행하면서 **알아낸 점** 혹은 **아직 모호한 점**.\n"
   ]
  },
  {
   "cell_type": "markdown",
   "id": "contrary-benefit",
   "metadata": {},
   "source": [
    "**알아낸점**\n",
    "   * 주피터를 이용하는 법에 대해서 의지를 갖고 진행했음( 세상엔 좋은 툴이 많구나 하는것 을 느꼈음 )\n",
    "   * 모델에 대한 학습에는 데이터의 양이 너무 적으면 원하는 결과를 못 얻을 수 있다는 것을 알게 됨\n",
    " \n",
    "**모호한점**\n",
    "   * 위에서 진행을 처음에 직접 만든 300개의 이미지로 훈련을 하고, 다른 분이 만든 300개로 테스트를 진행했는데.. 이렇게 해도 맞는건지..\n",
    "   * 수치를 올리기위해 위처럼 진행한 것이 처음 진행했던 300개 이미지와는 상관없이 아얘 3천여개의 이미지로만 테스트한 것이 되는건지.."
   ]
  },
  {
   "cell_type": "markdown",
   "id": "handed-tunnel",
   "metadata": {},
   "source": [
    "## 3. 루브릭 평가 지표를 맞추기 위해 **시도한 것들**.\n"
   ]
  },
  {
   "cell_type": "markdown",
   "id": "outdoor-dimension",
   "metadata": {},
   "source": [
    "* 하이퍼파라미터의 값을 변경하면서 수행해 봄 (위의 소스보다 실제로는 다양(10가지 경우 등)하게 하이퍼파라미터값을 수정해봤었음 )\n",
    "  <br>=> 그러나 별다른 차이를 못 느낌\n",
    "  \n",
    "* 다른 분(`전지은님`)이 모아놓은 대량의 데이터로 훈련을 시도했음"
   ]
  },
  {
   "cell_type": "markdown",
   "id": "induced-marking",
   "metadata": {},
   "source": [
    "## 4. 만약에 루브릭 평가 관련 지표를 **달성 하지 못했을 때, 이유에 관한 추정**.\n",
    "\n"
   ]
  },
  {
   "cell_type": "markdown",
   "id": "refined-command",
   "metadata": {},
   "source": [
    "* 위에 진행한게 실제 지표를 달성했는지 잘 모르겠습니다. ㅠㅠ"
   ]
  },
  {
   "cell_type": "markdown",
   "id": "gothic-bottle",
   "metadata": {},
   "source": [
    "## - **자기 다짐**"
   ]
  },
  {
   "cell_type": "markdown",
   "id": "tender-timber",
   "metadata": {},
   "source": [
    "* 아직 시작하는 단계인데.. 재미있습니다.\n",
    "* 진행하고 있는 이 단계들을 100% 다 이해했다면 거짓말이고..\n",
    "* 앞으로 더욱더 공부하고 생각해야하는 시간들이 필요할 것 같은데 최대한 짬을 내서 다른 분들에 비해서 뒤쳐지지 않았으면 합니다!!"
   ]
  },
  {
   "cell_type": "code",
   "execution_count": null,
   "id": "acoustic-ontario",
   "metadata": {},
   "outputs": [],
   "source": []
  }
 ],
 "metadata": {
  "kernelspec": {
   "display_name": "Python 3",
   "language": "python",
   "name": "python3"
  },
  "language_info": {
   "codemirror_mode": {
    "name": "ipython",
    "version": 3
   },
   "file_extension": ".py",
   "mimetype": "text/x-python",
   "name": "python",
   "nbconvert_exporter": "python",
   "pygments_lexer": "ipython3",
   "version": "3.7.9"
  }
 },
 "nbformat": 4,
 "nbformat_minor": 5
}
