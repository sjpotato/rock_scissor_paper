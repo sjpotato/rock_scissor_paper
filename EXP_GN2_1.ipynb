{
 "cells": [
  {
   "cell_type": "markdown",
   "id": "proper-business",
   "metadata": {},
   "source": [
    "# 가위바위보 분류기"
   ]
  },
  {
   "cell_type": "code",
   "execution_count": 52,
   "id": "indirect-therapy",
   "metadata": {},
   "outputs": [
    {
     "name": "stdout",
     "output_type": "stream",
     "text": [
      "PIL 라이브러리 import 완료!\n"
     ]
    }
   ],
   "source": [
    "from PIL import Image\n",
    "import os, glob\n",
    "\n",
    "print(\"PIL 라이브러리 import 완료!\")"
   ]
  },
  {
   "cell_type": "code",
   "execution_count": 54,
   "id": "essential-permit",
   "metadata": {},
   "outputs": [],
   "source": [
    "# 이미지 사이즈 조절 함수 정의\n",
    "def resize_images(img_path):\n",
    "\timages=glob.glob(img_path + \"/*.jpg\")  \n",
    "    \n",
    "\tprint(len(images), \" images to be resized.\")\n",
    "\n",
    "    # 파일마다 모두 28x28 사이즈로 바꾸어 저장합니다.\n",
    "\ttarget_size=(28,28)\n",
    "\tfor img in images:\n",
    "\t\told_img=Image.open(img)\n",
    "\t\tnew_img=old_img.resize(target_size,Image.ANTIALIAS)\n",
    "\t\tnew_img.save(img, \"JPEG\")\n",
    "    \n",
    "\tprint(len(images), \" images resized.\")\n"
   ]
  },
  {
   "cell_type": "markdown",
   "id": "alpine-extent",
   "metadata": {},
   "source": [
    "#### 학습 데이터(300) /rock_scissor_paper/"
   ]
  },
  {
   "cell_type": "code",
   "execution_count": 55,
   "id": "further-effectiveness",
   "metadata": {},
   "outputs": [
    {
     "name": "stdout",
     "output_type": "stream",
     "text": [
      "100  images to be resized.\n",
      "100  images resized.\n",
      "100  images to be resized.\n",
      "100  images resized.\n",
      "100  images to be resized.\n",
      "100  images resized.\n"
     ]
    }
   ],
   "source": [
    "# 가위/바위/보 이미지 변환 \n",
    "image_dir_path = os.getenv(\"HOME\") + \"/aiffel/rock_scissor_paper/rock\"\n",
    "resize_images(image_dir_path)\n",
    "image_dir_path = os.getenv(\"HOME\") + \"/aiffel/rock_scissor_paper/paper\"\n",
    "resize_images(image_dir_path)\n",
    "image_dir_path = os.getenv(\"HOME\") + \"/aiffel/rock_scissor_paper/scissor\"\n",
    "resize_images(image_dir_path)"
   ]
  },
  {
   "cell_type": "code",
   "execution_count": 56,
   "id": "interpreted-courage",
   "metadata": {},
   "outputs": [],
   "source": [
    "# 데이터 로드 함수 정의\n",
    "def load_data(img_path, number_of_data=300):  # 가위바위보 이미지 개수 총합에 주의하세요.\n",
    "    # 가위 : 0, 바위 : 1, 보 : 2\n",
    "    img_size=28\n",
    "    color=3\n",
    "    #이미지 데이터와 라벨(가위 : 0, 바위 : 1, 보 : 2) 데이터를 담을 행렬(matrix) 영역을 생성합니다.\n",
    "    imgs=np.zeros(number_of_data*img_size*img_size*color,dtype=np.int32).reshape(number_of_data,img_size,img_size,color)\n",
    "    labels=np.zeros(number_of_data,dtype=np.int32)\n",
    "\n",
    "    idx=0\n",
    "    for file in glob.iglob(img_path+'/scissor/*.jpg'):\n",
    "        img = np.array(Image.open(file),dtype=np.int32)\n",
    "        imgs[idx,:,:,:]=img    # 데이터 영역에 이미지 행렬을 복사\n",
    "        labels[idx]=0   # 가위 : 0\n",
    "        idx=idx+1\n",
    "\n",
    "    for file in glob.iglob(img_path+'/rock/*.jpg'):\n",
    "        img = np.array(Image.open(file),dtype=np.int32)\n",
    "        imgs[idx,:,:,:]=img    # 데이터 영역에 이미지 행렬을 복사\n",
    "        labels[idx]=1   # 바위 : 1\n",
    "        idx=idx+1  \n",
    "    \n",
    "    for file in glob.iglob(img_path+'/paper/*.jpg'):\n",
    "        img = np.array(Image.open(file),dtype=np.int32)\n",
    "        imgs[idx,:,:,:]=img    # 데이터 영역에 이미지 행렬을 복사\n",
    "        labels[idx]=2   # 보 : 2\n",
    "        idx=idx+1\n",
    "        \n",
    "    print(\"학습데이터(x_train)의 이미지 개수는\", idx,\"입니다.\")\n",
    "    return imgs, labels    "
   ]
  },
  {
   "cell_type": "code",
   "execution_count": 57,
   "id": "secret-terrain",
   "metadata": {},
   "outputs": [
    {
     "name": "stdout",
     "output_type": "stream",
     "text": [
      "학습데이터(x_train)의 이미지 개수는 300 입니다.\n",
      "x_train shape: (300, 28, 28, 3)\n",
      "y_train shape: (300,)\n",
      "라벨:  0\n"
     ]
    },
    {
     "data": {
      "image/png": "[encoded data removed]",
      "text/plain": [
       "<Figure size 432x288 with 1 Axes>"
      ]
     },
     "metadata": {
      "needs_background": "light"
     },
     "output_type": "display_data"
    }
   ],
   "source": [
    "# 데이터 로드 및 전처리\n",
    "import numpy as np\n",
    "import matplotlib.pyplot as plt\n",
    "image_dir_path = os.getenv(\"HOME\") + \"/aiffel/rock_scissor_paper/\"\n",
    "\n",
    "(x_train, y_train)=load_data(image_dir_path)\n",
    "\n",
    "x_train_norm = x_train/255.0   # 입력은 0~1 사이의 값으로 정규화\n",
    "print(\"x_train shape: {}\".format(x_train.shape))\n",
    "print(\"y_train shape: {}\".format(y_train.shape))\n",
    "\n",
    "# 이미지 확인\n",
    "plt.imshow(x_train[0])\n",
    "print('라벨: ', y_train[0])"
   ]
  },
  {
   "cell_type": "code",
   "execution_count": 58,
   "id": "adequate-botswana",
   "metadata": {},
   "outputs": [
    {
     "name": "stdout",
     "output_type": "stream",
     "text": [
      "Model: \"sequential_14\"\n",
      "_________________________________________________________________\n",
      "Layer (type)                 Output Shape              Param #   \n",
      "=================================================================\n",
      "conv2d_28 (Conv2D)           (None, 26, 26, 16)        448       \n",
      "_________________________________________________________________\n",
      "max_pooling2d_28 (MaxPooling (None, 13, 13, 16)        0         \n",
      "_________________________________________________________________\n",
      "conv2d_29 (Conv2D)           (None, 11, 11, 32)        4640      \n",
      "_________________________________________________________________\n",
      "max_pooling2d_29 (MaxPooling (None, 5, 5, 32)          0         \n",
      "_________________________________________________________________\n",
      "flatten_14 (Flatten)         (None, 800)               0         \n",
      "_________________________________________________________________\n",
      "dense_28 (Dense)             (None, 32)                25632     \n",
      "_________________________________________________________________\n",
      "dense_29 (Dense)             (None, 10)                330       \n",
      "=================================================================\n",
      "Total params: 31,050\n",
      "Trainable params: 31,050\n",
      "Non-trainable params: 0\n",
      "_________________________________________________________________\n"
     ]
    }
   ],
   "source": [
    "# 딥러닝 네트워크 설계하기\n",
    "import tensorflow as tf\n",
    "from tensorflow import keras\n",
    "\n",
    "# model 생성\n",
    "n_channel_1=16\n",
    "n_channel_2=32\n",
    "n_dense=32\n",
    "n_train_epoch=10\n",
    "\n",
    "model=keras.models.Sequential()\n",
    "model.add(keras.layers.Conv2D(n_channel_1, (3,3), activation='relu', input_shape=(28,28,3)))\n",
    "model.add(keras.layers.MaxPool2D(2,2))\n",
    "model.add(keras.layers.Conv2D(n_channel_2, (3,3), activation='relu'))\n",
    "model.add(keras.layers.MaxPooling2D((2,2)))\n",
    "model.add(keras.layers.Flatten())\n",
    "model.add(keras.layers.Dense(n_dense, activation='relu'))\n",
    "model.add(keras.layers.Dense(10, activation='softmax'))\n",
    "\n",
    "model.summary()"
   ]
  },
  {
   "cell_type": "code",
   "execution_count": 59,
   "id": "environmental-wheel",
   "metadata": {},
   "outputs": [
    {
     "data": {
      "text/plain": [
       "(300,)"
      ]
     },
     "execution_count": 59,
     "metadata": {},
     "output_type": "execute_result"
    }
   ],
   "source": [
    "x_train_norm.shape\n",
    "y_train.shape"
   ]
  },
  {
   "cell_type": "code",
   "execution_count": 60,
   "id": "heavy-italic",
   "metadata": {},
   "outputs": [
    {
     "name": "stdout",
     "output_type": "stream",
     "text": [
      "Epoch 1/10\n",
      "10/10 [==============================] - 0s 3ms/step - loss: 2.1540 - accuracy: 0.2225\n",
      "Epoch 2/10\n",
      "10/10 [==============================] - 0s 3ms/step - loss: 1.4471 - accuracy: 0.3507\n",
      "Epoch 3/10\n",
      "10/10 [==============================] - 0s 3ms/step - loss: 1.0355 - accuracy: 0.4382\n",
      "Epoch 4/10\n",
      "10/10 [==============================] - 0s 3ms/step - loss: 0.9018 - accuracy: 0.6036\n",
      "Epoch 5/10\n",
      "10/10 [==============================] - 0s 3ms/step - loss: 0.8364 - accuracy: 0.6196\n",
      "Epoch 6/10\n",
      "10/10 [==============================] - 0s 3ms/step - loss: 0.7645 - accuracy: 0.7070\n",
      "Epoch 7/10\n",
      "10/10 [==============================] - 0s 3ms/step - loss: 0.6375 - accuracy: 0.8158\n",
      "Epoch 8/10\n",
      "10/10 [==============================] - 0s 3ms/step - loss: 0.5216 - accuracy: 0.8571\n",
      "Epoch 9/10\n",
      "10/10 [==============================] - 0s 3ms/step - loss: 0.4481 - accuracy: 0.8976\n",
      "Epoch 10/10\n",
      "10/10 [==============================] - 0s 3ms/step - loss: 0.3405 - accuracy: 0.9184\n"
     ]
    },
    {
     "data": {
      "text/plain": [
       "<tensorflow.python.keras.callbacks.History at 0x7fbc9f3e0550>"
      ]
     },
     "execution_count": 60,
     "metadata": {},
     "output_type": "execute_result"
    }
   ],
   "source": [
    "# 딥러닝 네트워크 학습시키기\n",
    "model.compile(optimizer='adam',\n",
    "             loss='sparse_categorical_crossentropy',\n",
    "             metrics=['accuracy'])\n",
    "\n",
    "model.fit(x_train_norm, y_train, epochs=10)"
   ]
  },
  {
   "cell_type": "markdown",
   "id": "median-munich",
   "metadata": {},
   "source": [
    "#### 테스트 데이터(300) rock_scissor_paper/test/"
   ]
  },
  {
   "cell_type": "code",
   "execution_count": 61,
   "id": "medieval-forestry",
   "metadata": {
    "scrolled": true
   },
   "outputs": [
    {
     "name": "stdout",
     "output_type": "stream",
     "text": [
      "학습데이터(x_train)의 이미지 개수는 300 입니다.\n",
      "x_test shape: (300, 28, 28, 3)\n",
      "y_test shape: (300,)\n",
      "라벨:  0\n"
     ]
    },
    {
     "data": {
      "image/png": "[encoded data removed]",
      "text/plain": [
       "<Figure size 432x288 with 1 Axes>"
      ]
     },
     "metadata": {
      "needs_background": "light"
     },
     "output_type": "display_data"
    }
   ],
   "source": [
    "# 테스트 데이터 준비 ( 1 )\n",
    "test_image_dir_path = os.getenv(\"HOME\") + \"/aiffel/rock_scissor_paper/test/\"\n",
    "(x_test, y_test)=load_data(test_image_dir_path)\n",
    "x_test_norm = x_test/255.0   # 입력은 0~1 사이의 값으로 정규화\n",
    "\n",
    "print(\"x_test shape: {}\".format(x_test.shape))\n",
    "print(\"y_test shape: {}\".format(y_test.shape))\n",
    "\n",
    "# 이미지 확인\n",
    "plt.imshow(x_test[0])\n",
    "print('라벨: ', y_test[0])"
   ]
  },
  {
   "cell_type": "code",
   "execution_count": 62,
   "id": "elect-solution",
   "metadata": {
    "scrolled": true
   },
   "outputs": [
    {
     "name": "stdout",
     "output_type": "stream",
     "text": [
      "10/10 - 0s - loss: 1.2252 - accuracy: 0.3767\n",
      "test_loss: 1.2251577377319336 \n",
      "test_accuracy: 0.3766666650772095\n"
     ]
    }
   ],
   "source": [
    "# 테스트 데이터로 성능확인 ( 첫번째 테스트 데이터 )\n",
    "test_loss, test_accuracy = model.evaluate(x_test_norm, y_test, verbose=2)\n",
    "print(\"test_loss: {} \".format(test_loss))\n",
    "print(\"test_accuracy: {}\".format(test_accuracy))"
   ]
  },
  {
   "cell_type": "code",
   "execution_count": 63,
   "id": "pharmaceutical-child",
   "metadata": {},
   "outputs": [
    {
     "name": "stdout",
     "output_type": "stream",
     "text": [
      "model.predict() 결과 :  [5.4632354e-01 2.9436508e-01 1.5919237e-01 7.7964578e-06 2.7413371e-05\n",
      " 4.9561883e-08 4.5660739e-11 5.0184944e-08 4.4945232e-06 7.9227881e-05]\n",
      "model이 추론한 가장 가능성이 높은 결과 :  0\n",
      "실제 데이터의 라벨 :  0\n"
     ]
    }
   ],
   "source": [
    "predicted_result = model.predict(x_test_norm)  # model이 추론한 확률값. \n",
    "predicted_labels = np.argmax(predicted_result, axis=1)\n",
    "\n",
    "idx=0  #1번째 x_test를 살펴보자. \n",
    "print('model.predict() 결과 : ', predicted_result[idx])\n",
    "print('model이 추론한 가장 가능성이 높은 결과 : ', predicted_labels[idx])\n",
    "print('실제 데이터의 라벨 : ', y_test[idx])"
   ]
  },
  {
   "cell_type": "code",
   "execution_count": 64,
   "id": "toxic-branch",
   "metadata": {},
   "outputs": [
    {
     "data": {
      "image/png": "[encoded data removed]",
      "text/plain": [
       "<Figure size 432x288 with 1 Axes>"
      ]
     },
     "metadata": {
      "needs_background": "light"
     },
     "output_type": "display_data"
    }
   ],
   "source": [
    "plt.imshow(x_test[idx],cmap=plt.cm.binary)\n",
    "plt.show()"
   ]
  },
  {
   "cell_type": "code",
   "execution_count": 28,
   "id": "antique-server",
   "metadata": {},
   "outputs": [
    {
     "name": "stdout",
     "output_type": "stream",
     "text": [
      "예측확률분포: [7.1039073e-02 4.1031845e-02 8.8792616e-01 3.9695987e-08 3.6367551e-10\n",
      " 9.8132669e-10 5.5345695e-10 1.1060097e-06 8.5639425e-07 9.3548931e-07]\n",
      "라벨: 1, 예측결과: 2\n"
     ]
    },
    {
     "data": {
      "image/png": "[encoded data removed]",
      "text/plain": [
       "<Figure size 432x288 with 1 Axes>"
      ]
     },
     "metadata": {
      "needs_background": "light"
     },
     "output_type": "display_data"
    },
    {
     "name": "stdout",
     "output_type": "stream",
     "text": [
      "예측확률분포: [2.0146840e-03 5.6938468e-03 9.9229091e-01 2.2663462e-09 1.5485812e-11\n",
      " 1.5193538e-10 5.4233160e-11 9.1652105e-08 1.3235780e-07 2.9742216e-07]\n",
      "라벨: 1, 예측결과: 2\n"
     ]
    },
    {
     "data": {
      "image/png": "[encoded data removed]",
      "text/plain": [
       "<Figure size 432x288 with 1 Axes>"
      ]
     },
     "metadata": {
      "needs_background": "light"
     },
     "output_type": "display_data"
    },
    {
     "name": "stdout",
     "output_type": "stream",
     "text": [
      "예측확률분포: [2.5614280e-01 7.4930102e-02 6.6892648e-01 1.2596215e-08 3.0303621e-11\n",
      " 2.0348198e-10 4.7566385e-11 1.3327690e-07 3.0194263e-07 1.3769902e-07]\n",
      "라벨: 0, 예측결과: 2\n"
     ]
    },
    {
     "data": {
      "image/png": "[encoded data removed]",
      "text/plain": [
       "<Figure size 432x288 with 1 Axes>"
      ]
     },
     "metadata": {
      "needs_background": "light"
     },
     "output_type": "display_data"
    },
    {
     "name": "stdout",
     "output_type": "stream",
     "text": [
      "예측확률분포: [7.2617717e-03 1.2625068e-04 9.9261206e-01 4.5177462e-11 2.5039202e-13\n",
      " 8.1863058e-12 9.9767189e-13 9.7697681e-09 4.5409205e-09 1.0810084e-08]\n",
      "라벨: 1, 예측결과: 2\n"
     ]
    },
    {
     "data": {
      "image/png": "[encoded data removed]",
      "text/plain": [
       "<Figure size 432x288 with 1 Axes>"
      ]
     },
     "metadata": {
      "needs_background": "light"
     },
     "output_type": "display_data"
    },
    {
     "name": "stdout",
     "output_type": "stream",
     "text": [
      "예측확률분포: [7.14005679e-02 2.11425826e-01 7.17172563e-01 2.69803451e-08\n",
      " 7.70161643e-11 3.53919088e-10 1.41450837e-10 1.08478076e-07\n",
      " 5.49069227e-07 3.81032720e-07]\n",
      "라벨: 0, 예측결과: 2\n"
     ]
    },
    {
     "data": {
      "image/png": "[encoded data removed]",
      "text/plain": [
       "<Figure size 432x288 with 1 Axes>"
      ]
     },
     "metadata": {
      "needs_background": "light"
     },
     "output_type": "display_data"
    }
   ],
   "source": [
    "import random\n",
    "wrong_predict_list=[]\n",
    "for i, _ in enumerate(predicted_labels):\n",
    "    # i번째 test_labels과 y_test이 다른 경우만 모아 봅시다. \n",
    "    if predicted_labels[i] != y_test[i]:\n",
    "        wrong_predict_list.append(i)\n",
    "\n",
    "# wrong_predict_list 에서 랜덤하게 5개만 뽑아봅시다.\n",
    "samples = random.choices(population=wrong_predict_list, k=5)\n",
    "\n",
    "for n in samples:\n",
    "    print(\"예측확률분포: \" + str(predicted_result[n]))\n",
    "    print(\"라벨: \" + str(y_test[n]) + \", 예측결과: \" + str(predicted_labels[n]))\n",
    "    plt.imshow(x_test[n], cmap=plt.cm.binary)\n",
    "    plt.show()"
   ]
  },
  {
   "cell_type": "code",
   "execution_count": 67,
   "id": "august-spider",
   "metadata": {},
   "outputs": [
    {
     "name": "stdout",
     "output_type": "stream",
     "text": [
      "Model: \"sequential_17\"\n",
      "_________________________________________________________________\n",
      "Layer (type)                 Output Shape              Param #   \n",
      "=================================================================\n",
      "conv2d_34 (Conv2D)           (None, 26, 26, 16)        448       \n",
      "_________________________________________________________________\n",
      "max_pooling2d_34 (MaxPooling (None, 13, 13, 16)        0         \n",
      "_________________________________________________________________\n",
      "conv2d_35 (Conv2D)           (None, 11, 11, 32)        4640      \n",
      "_________________________________________________________________\n",
      "max_pooling2d_35 (MaxPooling (None, 5, 5, 32)          0         \n",
      "_________________________________________________________________\n",
      "flatten_17 (Flatten)         (None, 800)               0         \n",
      "_________________________________________________________________\n",
      "dense_34 (Dense)             (None, 32)                25632     \n",
      "_________________________________________________________________\n",
      "dense_35 (Dense)             (None, 10)                330       \n",
      "=================================================================\n",
      "Total params: 31,050\n",
      "Trainable params: 31,050\n",
      "Non-trainable params: 0\n",
      "_________________________________________________________________\n",
      "Epoch 1/10\n",
      "10/10 [==============================] - 0s 3ms/step - loss: 2.0412 - accuracy: 0.2382\n",
      "Epoch 2/10\n",
      "10/10 [==============================] - 0s 3ms/step - loss: 1.1405 - accuracy: 0.4377\n",
      "Epoch 3/10\n",
      "10/10 [==============================] - 0s 3ms/step - loss: 1.0717 - accuracy: 0.4212\n",
      "Epoch 4/10\n",
      "10/10 [==============================] - 0s 3ms/step - loss: 0.9942 - accuracy: 0.4709\n",
      "Epoch 5/10\n",
      "10/10 [==============================] - 0s 3ms/step - loss: 0.8128 - accuracy: 0.7916\n",
      "Epoch 6/10\n",
      "10/10 [==============================] - 0s 3ms/step - loss: 0.6908 - accuracy: 0.8813\n",
      "Epoch 7/10\n",
      "10/10 [==============================] - 0s 3ms/step - loss: 0.6333 - accuracy: 0.7149\n",
      "Epoch 8/10\n",
      "10/10 [==============================] - 0s 3ms/step - loss: 0.5176 - accuracy: 0.8204\n",
      "Epoch 9/10\n",
      "10/10 [==============================] - 0s 3ms/step - loss: 0.4205 - accuracy: 0.9084\n",
      "Epoch 10/10\n",
      "10/10 [==============================] - 0s 3ms/step - loss: 0.3319 - accuracy: 0.9285\n",
      "10/10 - 0s - loss: 1.1081 - accuracy: 0.3933\n",
      "test_loss: 1.1080776453018188 \n",
      "test_accuracy: 0.3933333456516266\n"
     ]
    }
   ],
   "source": [
    "# 더 좋은 네트워크 만들어 보기\n",
    "\n",
    "# 바꿔 볼 수 있는 하이퍼파라미터들 \n",
    "# 16 / 32 / 32 / 10 ( loss: 1.1081 - accuracy: 0.3933 )\n",
    "n_channel_1=16\n",
    "n_channel_2=32\n",
    "n_dense=32\n",
    "n_train_epoch=10\n",
    "\n",
    "model=keras.models.Sequential()\n",
    "model.add(keras.layers.Conv2D(n_channel_1, (3,3), activation='relu', input_shape=(28,28,3)))\n",
    "model.add(keras.layers.MaxPool2D(2,2))\n",
    "model.add(keras.layers.Conv2D(n_channel_2, (3,3), activation='relu'))\n",
    "model.add(keras.layers.MaxPooling2D((2,2)))\n",
    "model.add(keras.layers.Flatten())\n",
    "model.add(keras.layers.Dense(n_dense, activation='relu'))\n",
    "model.add(keras.layers.Dense(10, activation='softmax'))\n",
    "\n",
    "model.summary()\n",
    "model.compile(optimizer='adam',\n",
    "             loss='sparse_categorical_crossentropy',\n",
    "             metrics=['accuracy'])\n",
    "\n",
    "# 모델 훈련\n",
    "model.fit(x_train_norm, y_train, epochs=n_train_epoch)\n",
    "\n",
    "# 모델 시험\n",
    "test_loss, test_accuracy = model.evaluate(x_test_norm, y_test, verbose=2)\n",
    "print(\"test_loss: {} \".format(test_loss))\n",
    "print(\"test_accuracy: {}\".format(test_accuracy))\n"
   ]
  },
  {
   "cell_type": "code",
   "execution_count": 69,
   "id": "clinical-reynolds",
   "metadata": {},
   "outputs": [
    {
     "name": "stdout",
     "output_type": "stream",
     "text": [
      "Model: \"sequential_19\"\n",
      "_________________________________________________________________\n",
      "Layer (type)                 Output Shape              Param #   \n",
      "=================================================================\n",
      "conv2d_38 (Conv2D)           (None, 26, 26, 32)        896       \n",
      "_________________________________________________________________\n",
      "max_pooling2d_38 (MaxPooling (None, 13, 13, 32)        0         \n",
      "_________________________________________________________________\n",
      "conv2d_39 (Conv2D)           (None, 11, 11, 32)        9248      \n",
      "_________________________________________________________________\n",
      "max_pooling2d_39 (MaxPooling (None, 5, 5, 32)          0         \n",
      "_________________________________________________________________\n",
      "flatten_19 (Flatten)         (None, 800)               0         \n",
      "_________________________________________________________________\n",
      "dense_38 (Dense)             (None, 32)                25632     \n",
      "_________________________________________________________________\n",
      "dense_39 (Dense)             (None, 10)                330       \n",
      "=================================================================\n",
      "Total params: 36,106\n",
      "Trainable params: 36,106\n",
      "Non-trainable params: 0\n",
      "_________________________________________________________________\n",
      "Epoch 1/10\n",
      "10/10 [==============================] - 0s 3ms/step - loss: 2.2552 - accuracy: 0.1476\n",
      "Epoch 2/10\n",
      "10/10 [==============================] - 0s 3ms/step - loss: 1.4537 - accuracy: 0.3275\n",
      "Epoch 3/10\n",
      "10/10 [==============================] - 0s 3ms/step - loss: 1.1199 - accuracy: 0.3566\n",
      "Epoch 4/10\n",
      "10/10 [==============================] - 0s 3ms/step - loss: 1.0823 - accuracy: 0.3913\n",
      "Epoch 5/10\n",
      "10/10 [==============================] - 0s 4ms/step - loss: 1.0174 - accuracy: 0.4588\n",
      "Epoch 6/10\n",
      "10/10 [==============================] - 0s 3ms/step - loss: 0.9873 - accuracy: 0.5411\n",
      "Epoch 7/10\n",
      "10/10 [==============================] - 0s 3ms/step - loss: 0.8856 - accuracy: 0.8303\n",
      "Epoch 8/10\n",
      "10/10 [==============================] - 0s 3ms/step - loss: 0.8175 - accuracy: 0.7485\n",
      "Epoch 9/10\n",
      "10/10 [==============================] - 0s 3ms/step - loss: 0.6687 - accuracy: 0.9279\n",
      "Epoch 10/10\n",
      "10/10 [==============================] - 0s 3ms/step - loss: 0.5438 - accuracy: 0.9001\n",
      "10/10 - 0s - loss: 1.1381 - accuracy: 0.3667\n",
      "test_loss: 1.1381089687347412 \n",
      "test_accuracy: 0.36666667461395264\n"
     ]
    }
   ],
   "source": [
    "# 더 좋은 네트워크 만들어 보기\n",
    "\n",
    "# 바꿔 볼 수 있는 하이퍼파라미터들  \n",
    "# 16 / 32 / 32 / 10 ( loss: 1.1081 - accuracy: 0.3933 )\n",
    "# 32 / 32 / 32 / 10 ( loss: 1.1381 - accuracy: 0.3667 ) \n",
    "n_channel_1=32\n",
    "n_channel_2=32\n",
    "n_dense=32\n",
    "n_train_epoch=10\n",
    "\n",
    "model=keras.models.Sequential()\n",
    "model.add(keras.layers.Conv2D(n_channel_1, (3,3), activation='relu', input_shape=(28,28,3)))\n",
    "model.add(keras.layers.MaxPool2D(2,2))\n",
    "model.add(keras.layers.Conv2D(n_channel_2, (3,3), activation='relu'))\n",
    "model.add(keras.layers.MaxPooling2D((2,2)))\n",
    "model.add(keras.layers.Flatten())\n",
    "model.add(keras.layers.Dense(n_dense, activation='relu'))\n",
    "model.add(keras.layers.Dense(10, activation='softmax'))\n",
    "\n",
    "model.summary()\n",
    "model.compile(optimizer='adam',\n",
    "             loss='sparse_categorical_crossentropy',\n",
    "             metrics=['accuracy'])\n",
    "\n",
    "# 모델 훈련\n",
    "model.fit(x_train_norm, y_train, epochs=n_train_epoch)\n",
    "\n",
    "# 모델 시험\n",
    "test_loss, test_accuracy = model.evaluate(x_test_norm, y_test, verbose=2)\n",
    "print(\"test_loss: {} \".format(test_loss))\n",
    "print(\"test_accuracy: {}\".format(test_accuracy))\n"
   ]
  },
  {
   "cell_type": "code",
   "execution_count": 72,
   "id": "floating-mother",
   "metadata": {},
   "outputs": [
    {
     "name": "stdout",
     "output_type": "stream",
     "text": [
      "Model: \"sequential_22\"\n",
      "_________________________________________________________________\n",
      "Layer (type)                 Output Shape              Param #   \n",
      "=================================================================\n",
      "conv2d_44 (Conv2D)           (None, 26, 26, 32)        896       \n",
      "_________________________________________________________________\n",
      "max_pooling2d_44 (MaxPooling (None, 13, 13, 32)        0         \n",
      "_________________________________________________________________\n",
      "conv2d_45 (Conv2D)           (None, 11, 11, 32)        9248      \n",
      "_________________________________________________________________\n",
      "max_pooling2d_45 (MaxPooling (None, 5, 5, 32)          0         \n",
      "_________________________________________________________________\n",
      "flatten_22 (Flatten)         (None, 800)               0         \n",
      "_________________________________________________________________\n",
      "dense_44 (Dense)             (None, 16)                12816     \n",
      "_________________________________________________________________\n",
      "dense_45 (Dense)             (None, 10)                170       \n",
      "=================================================================\n",
      "Total params: 23,130\n",
      "Trainable params: 23,130\n",
      "Non-trainable params: 0\n",
      "_________________________________________________________________\n",
      "Epoch 1/10\n",
      "10/10 [==============================] - 0s 3ms/step - loss: 2.2137 - accuracy: 0.2036\n",
      "Epoch 2/10\n",
      "10/10 [==============================] - 0s 3ms/step - loss: 1.8360 - accuracy: 0.3488\n",
      "Epoch 3/10\n",
      "10/10 [==============================] - 0s 3ms/step - loss: 1.6205 - accuracy: 0.3760\n",
      "Epoch 4/10\n",
      "10/10 [==============================] - 0s 3ms/step - loss: 1.6157 - accuracy: 0.3273\n",
      "Epoch 5/10\n",
      "10/10 [==============================] - 0s 3ms/step - loss: 1.4300 - accuracy: 0.3640\n",
      "Epoch 6/10\n",
      "10/10 [==============================] - 0s 3ms/step - loss: 1.2885 - accuracy: 0.3720\n",
      "Epoch 7/10\n",
      "10/10 [==============================] - 0s 3ms/step - loss: 0.9946 - accuracy: 0.5206\n",
      "Epoch 8/10\n",
      "10/10 [==============================] - 0s 3ms/step - loss: 0.8331 - accuracy: 0.6903\n",
      "Epoch 9/10\n",
      "10/10 [==============================] - 0s 3ms/step - loss: 0.7790 - accuracy: 0.6765\n",
      "Epoch 10/10\n",
      "10/10 [==============================] - 0s 3ms/step - loss: 0.7279 - accuracy: 0.6964\n",
      "10/10 - 0s - loss: 1.3612 - accuracy: 0.3300\n",
      "test_loss: 1.3611558675765991 \n",
      "test_accuracy: 0.33000001311302185\n"
     ]
    }
   ],
   "source": [
    "# 더 좋은 네트워크 만들어 보기\n",
    "\n",
    "# 바꿔 볼 수 있는 하이퍼파라미터들  \n",
    "# 16 / 32 / 32 / 10 ( loss: 1.1081 - accuracy: 0.3933 )\n",
    "# 32 / 32 / 32 / 10 ( loss: 1.1381 - accuracy: 0.3667 ) \n",
    "# 32 / 32 / 16 / 10 ( loss: 1.1517 - accuracy: 0.3867 ) \n",
    "n_channel_1=32\n",
    "n_channel_2=32\n",
    "n_dense=16\n",
    "n_train_epoch=10\n",
    "\n",
    "model=keras.models.Sequential()\n",
    "model.add(keras.layers.Conv2D(n_channel_1, (3,3), activation='relu', input_shape=(28,28,3)))\n",
    "model.add(keras.layers.MaxPool2D(2,2))\n",
    "model.add(keras.layers.Conv2D(n_channel_2, (3,3), activation='relu'))\n",
    "model.add(keras.layers.MaxPooling2D((2,2)))\n",
    "model.add(keras.layers.Flatten())\n",
    "model.add(keras.layers.Dense(n_dense, activation='relu'))\n",
    "model.add(keras.layers.Dense(10, activation='softmax'))\n",
    "\n",
    "model.summary()\n",
    "model.compile(optimizer='adam',\n",
    "             loss='sparse_categorical_crossentropy',\n",
    "             metrics=['accuracy'])\n",
    "\n",
    "# 모델 훈련\n",
    "model.fit(x_train_norm, y_train, epochs=n_train_epoch)\n",
    "\n",
    "# 모델 시험\n",
    "test_loss, test_accuracy = model.evaluate(x_test_norm, y_test, verbose=2)\n",
    "print(\"test_loss: {} \".format(test_loss))\n",
    "print(\"test_accuracy: {}\".format(test_accuracy))\n"
   ]
  },
  {
   "cell_type": "code",
   "execution_count": 71,
   "id": "angry-strengthening",
   "metadata": {},
   "outputs": [
    {
     "name": "stdout",
     "output_type": "stream",
     "text": [
      "Model: \"sequential_21\"\n",
      "_________________________________________________________________\n",
      "Layer (type)                 Output Shape              Param #   \n",
      "=================================================================\n",
      "conv2d_42 (Conv2D)           (None, 26, 26, 8)         224       \n",
      "_________________________________________________________________\n",
      "max_pooling2d_42 (MaxPooling (None, 13, 13, 8)         0         \n",
      "_________________________________________________________________\n",
      "conv2d_43 (Conv2D)           (None, 11, 11, 8)         584       \n",
      "_________________________________________________________________\n",
      "max_pooling2d_43 (MaxPooling (None, 5, 5, 8)           0         \n",
      "_________________________________________________________________\n",
      "flatten_21 (Flatten)         (None, 200)               0         \n",
      "_________________________________________________________________\n",
      "dense_42 (Dense)             (None, 32)                6432      \n",
      "_________________________________________________________________\n",
      "dense_43 (Dense)             (None, 10)                330       \n",
      "=================================================================\n",
      "Total params: 7,570\n",
      "Trainable params: 7,570\n",
      "Non-trainable params: 0\n",
      "_________________________________________________________________\n",
      "Epoch 1/10\n",
      "10/10 [==============================] - 5s 468ms/step - loss: 2.1486 - accuracy: 0.2585\n",
      "Epoch 2/10\n",
      "10/10 [==============================] - 0s 3ms/step - loss: 1.4915 - accuracy: 0.3546\n",
      "Epoch 3/10\n",
      "10/10 [==============================] - 0s 3ms/step - loss: 1.1309 - accuracy: 0.3723\n",
      "Epoch 4/10\n",
      "10/10 [==============================] - 0s 3ms/step - loss: 1.0841 - accuracy: 0.4156\n",
      "Epoch 5/10\n",
      "10/10 [==============================] - 0s 3ms/step - loss: 1.0375 - accuracy: 0.6271\n",
      "Epoch 6/10\n",
      "10/10 [==============================] - 0s 3ms/step - loss: 1.0036 - accuracy: 0.4324\n",
      "Epoch 7/10\n",
      "10/10 [==============================] - 0s 3ms/step - loss: 1.0302 - accuracy: 0.5432\n",
      "Epoch 8/10\n",
      "10/10 [==============================] - 0s 3ms/step - loss: 1.0324 - accuracy: 0.4139\n",
      "Epoch 9/10\n",
      "10/10 [==============================] - 0s 3ms/step - loss: 0.9891 - accuracy: 0.5903\n",
      "Epoch 10/10\n",
      "10/10 [==============================] - 0s 3ms/step - loss: 0.9461 - accuracy: 0.7456\n",
      "10/10 - 0s - loss: 1.1021 - accuracy: 0.4300\n",
      "test_loss: 1.1021236181259155 \n",
      "test_accuracy: 0.4300000071525574\n"
     ]
    }
   ],
   "source": [
    "# 더 좋은 네트워크 만들어 보기\n",
    "\n",
    "# 바꿔 볼 수 있는 하이퍼파라미터들  \n",
    "# 16 / 32 / 32 / 10 ( loss: 1.1081 - accuracy: 0.3933 )\n",
    "# 32 / 32 / 32 / 10 ( loss: 1.1381 - accuracy: 0.3667 ) \n",
    "# 32 / 32 / 16 / 10 ( loss: 1.1517 - accuracy: 0.3867 ) \n",
    "# 8 / 8 / 32 / 10 ( loss: 1.1021 - accuracy: 0.4300 ) \n",
    "n_channel_1=8\n",
    "n_channel_2=8\n",
    "n_dense=32\n",
    "n_train_epoch=10\n",
    "\n",
    "model=keras.models.Sequential()\n",
    "model.add(keras.layers.Conv2D(n_channel_1, (3,3), activation='relu', input_shape=(28,28,3)))\n",
    "model.add(keras.layers.MaxPool2D(2,2))\n",
    "model.add(keras.layers.Conv2D(n_channel_2, (3,3), activation='relu'))\n",
    "model.add(keras.layers.MaxPooling2D((2,2)))\n",
    "model.add(keras.layers.Flatten())\n",
    "model.add(keras.layers.Dense(n_dense, activation='relu'))\n",
    "model.add(keras.layers.Dense(10, activation='softmax'))\n",
    "\n",
    "model.summary()\n",
    "model.compile(optimizer='adam',\n",
    "             loss='sparse_categorical_crossentropy',\n",
    "             metrics=['accuracy'])\n",
    "\n",
    "# 모델 훈련\n",
    "model.fit(x_train_norm, y_train, epochs=n_train_epoch)\n",
    "\n",
    "# 모델 시험\n",
    "test_loss, test_accuracy = model.evaluate(x_test_norm, y_test, verbose=2)\n",
    "print(\"test_loss: {} \".format(test_loss))\n",
    "print(\"test_accuracy: {}\".format(test_accuracy))\n"
   ]
  },
  {
   "cell_type": "code",
   "execution_count": 73,
   "id": "several-double",
   "metadata": {},
   "outputs": [
    {
     "name": "stdout",
     "output_type": "stream",
     "text": [
      "Model: \"sequential_23\"\n",
      "_________________________________________________________________\n",
      "Layer (type)                 Output Shape              Param #   \n",
      "=================================================================\n",
      "conv2d_46 (Conv2D)           (None, 26, 26, 32)        896       \n",
      "_________________________________________________________________\n",
      "max_pooling2d_46 (MaxPooling (None, 13, 13, 32)        0         \n",
      "_________________________________________________________________\n",
      "conv2d_47 (Conv2D)           (None, 11, 11, 64)        18496     \n",
      "_________________________________________________________________\n",
      "max_pooling2d_47 (MaxPooling (None, 5, 5, 64)          0         \n",
      "_________________________________________________________________\n",
      "flatten_23 (Flatten)         (None, 1600)              0         \n",
      "_________________________________________________________________\n",
      "dense_46 (Dense)             (None, 32)                51232     \n",
      "_________________________________________________________________\n",
      "dense_47 (Dense)             (None, 10)                330       \n",
      "=================================================================\n",
      "Total params: 70,954\n",
      "Trainable params: 70,954\n",
      "Non-trainable params: 0\n",
      "_________________________________________________________________\n",
      "Epoch 1/10\n",
      "10/10 [==============================] - 5s 283ms/step - loss: 1.9813 - accuracy: 0.2625\n",
      "Epoch 2/10\n",
      "10/10 [==============================] - 0s 4ms/step - loss: 1.1820 - accuracy: 0.3845\n",
      "Epoch 3/10\n",
      "10/10 [==============================] - 0s 4ms/step - loss: 1.0581 - accuracy: 0.3544\n",
      "Epoch 4/10\n",
      "10/10 [==============================] - 0s 4ms/step - loss: 0.9680 - accuracy: 0.5585\n",
      "Epoch 5/10\n",
      "10/10 [==============================] - 0s 4ms/step - loss: 0.8708 - accuracy: 0.5727\n",
      "Epoch 6/10\n",
      "10/10 [==============================] - 0s 4ms/step - loss: 0.7367 - accuracy: 0.7217\n",
      "Epoch 7/10\n",
      "10/10 [==============================] - 0s 4ms/step - loss: 0.5259 - accuracy: 0.9462\n",
      "Epoch 8/10\n",
      "10/10 [==============================] - 0s 4ms/step - loss: 0.3650 - accuracy: 0.9234\n",
      "Epoch 9/10\n",
      "10/10 [==============================] - 0s 4ms/step - loss: 0.2509 - accuracy: 0.9514\n",
      "Epoch 10/10\n",
      "10/10 [==============================] - 0s 4ms/step - loss: 0.1661 - accuracy: 0.9546\n",
      "10/10 - 0s - loss: 1.3888 - accuracy: 0.3700\n",
      "test_loss: 1.3887921571731567 \n",
      "test_accuracy: 0.3700000047683716\n"
     ]
    }
   ],
   "source": [
    "# 더 좋은 네트워크 만들어 보기\n",
    "\n",
    "# 바꿔 볼 수 있는 하이퍼파라미터들  \n",
    "# 16 / 32 / 32 / 10 ( loss: 1.1081 - accuracy: 0.3933 )\n",
    "# 32 / 32 / 32 / 10 ( loss: 1.1381 - accuracy: 0.3667 ) \n",
    "# 32 / 32 / 16 / 10 ( loss: 1.1517 - accuracy: 0.3867 ) \n",
    "# 8 / 8 / 32 / 10 ( loss: 1.1021 - accuracy: 0.4300 ) \n",
    "# 32 / 64 / 32 / 10 ( loss: 1.3888 - accuracy: 0.3700 ) \n",
    "n_channel_1=32\n",
    "n_channel_2=64\n",
    "n_dense=32\n",
    "n_train_epoch=10\n",
    "\n",
    "model=keras.models.Sequential()\n",
    "model.add(keras.layers.Conv2D(n_channel_1, (3,3), activation='relu', input_shape=(28,28,3)))\n",
    "model.add(keras.layers.MaxPool2D(2,2))\n",
    "model.add(keras.layers.Conv2D(n_channel_2, (3,3), activation='relu'))\n",
    "model.add(keras.layers.MaxPooling2D((2,2)))\n",
    "model.add(keras.layers.Flatten())\n",
    "model.add(keras.layers.Dense(n_dense, activation='relu'))\n",
    "model.add(keras.layers.Dense(10, activation='softmax'))\n",
    "\n",
    "model.summary()\n",
    "model.compile(optimizer='adam',\n",
    "             loss='sparse_categorical_crossentropy',\n",
    "             metrics=['accuracy'])\n",
    "\n",
    "# 모델 훈련\n",
    "model.fit(x_train_norm, y_train, epochs=n_train_epoch)\n",
    "\n",
    "# 모델 시험\n",
    "test_loss, test_accuracy = model.evaluate(x_test_norm, y_test, verbose=2)\n",
    "print(\"test_loss: {} \".format(test_loss))\n",
    "print(\"test_accuracy: {}\".format(test_accuracy))\n"
   ]
  },
  {
   "cell_type": "code",
   "execution_count": 74,
   "id": "tribal-platform",
   "metadata": {},
   "outputs": [
    {
     "name": "stdout",
     "output_type": "stream",
     "text": [
      "Model: \"sequential_24\"\n",
      "_________________________________________________________________\n",
      "Layer (type)                 Output Shape              Param #   \n",
      "=================================================================\n",
      "conv2d_48 (Conv2D)           (None, 26, 26, 16)        448       \n",
      "_________________________________________________________________\n",
      "max_pooling2d_48 (MaxPooling (None, 13, 13, 16)        0         \n",
      "_________________________________________________________________\n",
      "conv2d_49 (Conv2D)           (None, 11, 11, 16)        2320      \n",
      "_________________________________________________________________\n",
      "max_pooling2d_49 (MaxPooling (None, 5, 5, 16)          0         \n",
      "_________________________________________________________________\n",
      "flatten_24 (Flatten)         (None, 400)               0         \n",
      "_________________________________________________________________\n",
      "dense_48 (Dense)             (None, 32)                12832     \n",
      "_________________________________________________________________\n",
      "dense_49 (Dense)             (None, 10)                330       \n",
      "=================================================================\n",
      "Total params: 15,930\n",
      "Trainable params: 15,930\n",
      "Non-trainable params: 0\n",
      "_________________________________________________________________\n",
      "Epoch 1/10\n",
      "10/10 [==============================] - 3s 285ms/step - loss: 2.5862 - accuracy: 0.0844\n",
      "Epoch 2/10\n",
      "10/10 [==============================] - 0s 3ms/step - loss: 1.7326 - accuracy: 0.3178\n",
      "Epoch 3/10\n",
      "10/10 [==============================] - 0s 3ms/step - loss: 1.4935 - accuracy: 0.3337\n",
      "Epoch 4/10\n",
      "10/10 [==============================] - 0s 3ms/step - loss: 1.2560 - accuracy: 0.3482\n",
      "Epoch 5/10\n",
      "10/10 [==============================] - 0s 3ms/step - loss: 1.0908 - accuracy: 0.5439\n",
      "Epoch 6/10\n",
      "10/10 [==============================] - 0s 3ms/step - loss: 1.0031 - accuracy: 0.6503\n",
      "Epoch 7/10\n",
      "10/10 [==============================] - 0s 3ms/step - loss: 0.9828 - accuracy: 0.5681\n",
      "Epoch 8/10\n",
      "10/10 [==============================] - 0s 3ms/step - loss: 0.9503 - accuracy: 0.6291\n",
      "Epoch 9/10\n",
      "10/10 [==============================] - 0s 3ms/step - loss: 0.8392 - accuracy: 0.7012\n",
      "Epoch 10/10\n",
      "10/10 [==============================] - 0s 3ms/step - loss: 0.8221 - accuracy: 0.6939\n",
      "10/10 - 0s - loss: 1.1778 - accuracy: 0.3867\n",
      "test_loss: 1.1777853965759277 \n",
      "test_accuracy: 0.3866666555404663\n"
     ]
    }
   ],
   "source": [
    "# 더 좋은 네트워크 만들어 보기\n",
    "\n",
    "# 바꿔 볼 수 있는 하이퍼파라미터들  \n",
    "# 16 / 32 / 32 / 10 ( loss: 1.1081 - accuracy: 0.3933 )\n",
    "# 32 / 32 / 32 / 10 ( loss: 1.1381 - accuracy: 0.3667 ) \n",
    "# 32 / 32 / 16 / 10 ( loss: 1.1517 - accuracy: 0.3867 ) \n",
    "# 8 / 8 / 32 / 10 ( loss: 1.1021 - accuracy: 0.4300 ) \n",
    "# 32 / 64 / 32 / 10 ( loss: 1.3888 - accuracy: 0.3700 ) \n",
    "# 16 / 16 / 32 / 10 ( loss: 1.3888 - accuracy: 0.3700 ) \n",
    "\n",
    "n_channel_1=16\n",
    "n_channel_2=32\n",
    "n_dense=32\n",
    "n_train_epoch=10\n",
    "\n",
    "model=keras.models.Sequential()\n",
    "model.add(keras.layers.Conv2D(n_channel_1, (3,3), activation='relu', input_shape=(28,28,3)))\n",
    "model.add(keras.layers.MaxPool2D(2,2))\n",
    "model.add(keras.layers.Conv2D(n_channel_2, (3,3), activation='relu'))\n",
    "model.add(keras.layers.MaxPooling2D((2,2)))\n",
    "model.add(keras.layers.Flatten())\n",
    "model.add(keras.layers.Dense(n_dense, activation='relu'))\n",
    "model.add(keras.layers.Dense(10, activation='softmax'))\n",
    "\n",
    "model.summary()\n",
    "model.compile(optimizer='adam',\n",
    "             loss='sparse_categorical_crossentropy',\n",
    "             metrics=['accuracy'])\n",
    "\n",
    "# 모델 훈련\n",
    "model.fit(x_train_norm, y_train, epochs=n_train_epoch)\n",
    "\n",
    "# 모델 시험\n",
    "test_loss, test_accuracy = model.evaluate(x_test_norm, y_test, verbose=2)\n",
    "print(\"test_loss: {} \".format(test_loss))\n",
    "print(\"test_accuracy: {}\".format(test_accuracy))\n"
   ]
  },
  {
   "cell_type": "markdown",
   "id": "grave-proposition",
   "metadata": {},
   "source": [
    "#### 파라미터 조정만으로는 원하는 수치가 나오지 않음, 추가 데이터 학습"
   ]
  },
  {
   "cell_type": "markdown",
   "id": "proved-creek",
   "metadata": {},
   "source": [
    "#### 추가 데이터(3,207, /rock_scissor_paper_others/) 학습 및 데이터 확인 "
   ]
  },
  {
   "cell_type": "code",
   "execution_count": 76,
   "id": "owned-diana",
   "metadata": {},
   "outputs": [
    {
     "name": "stdout",
     "output_type": "stream",
     "text": [
      "학습데이터(x_train)의 이미지 개수는 3207 입니다.\n",
      "x_other_test shape: (3207, 28, 28, 3)\n",
      "y_other_test shape: (3207,)\n",
      "다른 사람의 데이터 라벨:  0\n"
     ]
    },
    {
     "data": {
      "image/png": "[encoded data removed]",
      "text/plain": [
       "<Figure size 432x288 with 1 Axes>"
      ]
     },
     "metadata": {
      "needs_background": "light"
     },
     "output_type": "display_data"
    }
   ],
   "source": [
    "# 추가 데이터 준비 ( 3,207 )\n",
    "other_image_dir_path = os.getenv(\"HOME\") + \"/aiffel/rock_scissor_paper_others/\"\n",
    "(x_other_test, y_other_test)=load_data(other_image_dir_path, 3207)\n",
    "x_other_test_norm = x_other_test/255.0   # 입력은 0~1 사이의 값으로 정규화\n",
    "\n",
    "print(\"x_other_test shape: {}\".format(x_other_test.shape))\n",
    "print(\"y_other_test shape: {}\".format(y_other_test.shape))\n",
    "\n",
    "# 이미지 확인\n",
    "plt.imshow(x_other_test[0])\n",
    "print('다른 사람의 데이터 라벨: ', y_other_test[0])"
   ]
  },
  {
   "cell_type": "code",
   "execution_count": 84,
   "id": "legitimate-duncan",
   "metadata": {},
   "outputs": [
    {
     "name": "stdout",
     "output_type": "stream",
     "text": [
      "Model: \"sequential_32\"\n",
      "_________________________________________________________________\n",
      "Layer (type)                 Output Shape              Param #   \n",
      "=================================================================\n",
      "conv2d_64 (Conv2D)           (None, 26, 26, 16)        448       \n",
      "_________________________________________________________________\n",
      "max_pooling2d_64 (MaxPooling (None, 13, 13, 16)        0         \n",
      "_________________________________________________________________\n",
      "conv2d_65 (Conv2D)           (None, 11, 11, 32)        4640      \n",
      "_________________________________________________________________\n",
      "max_pooling2d_65 (MaxPooling (None, 5, 5, 32)          0         \n",
      "_________________________________________________________________\n",
      "flatten_32 (Flatten)         (None, 800)               0         \n",
      "_________________________________________________________________\n",
      "dense_64 (Dense)             (None, 32)                25632     \n",
      "_________________________________________________________________\n",
      "dense_65 (Dense)             (None, 10)                330       \n",
      "=================================================================\n",
      "Total params: 31,050\n",
      "Trainable params: 31,050\n",
      "Non-trainable params: 0\n",
      "_________________________________________________________________\n",
      "Epoch 1/10\n",
      "101/101 [==============================] - 1s 3ms/step - loss: 1.3810 - accuracy: 0.3524\n",
      "Epoch 2/10\n",
      "101/101 [==============================] - 0s 3ms/step - loss: 1.0716 - accuracy: 0.4219\n",
      "Epoch 3/10\n",
      "101/101 [==============================] - 0s 3ms/step - loss: 0.9523 - accuracy: 0.5496\n",
      "Epoch 4/10\n",
      "101/101 [==============================] - 0s 3ms/step - loss: 0.7935 - accuracy: 0.6576\n",
      "Epoch 5/10\n",
      "101/101 [==============================] - 0s 3ms/step - loss: 0.6586 - accuracy: 0.7197\n",
      "Epoch 6/10\n",
      "101/101 [==============================] - 0s 3ms/step - loss: 0.5594 - accuracy: 0.7706\n",
      "Epoch 7/10\n",
      "101/101 [==============================] - 0s 3ms/step - loss: 0.4731 - accuracy: 0.8103\n",
      "Epoch 8/10\n",
      "101/101 [==============================] - 0s 3ms/step - loss: 0.4133 - accuracy: 0.8502\n",
      "Epoch 9/10\n",
      "101/101 [==============================] - 0s 3ms/step - loss: 0.3475 - accuracy: 0.8642\n",
      "Epoch 10/10\n",
      "101/101 [==============================] - 0s 3ms/step - loss: 0.2945 - accuracy: 0.8950\n",
      "10/10 - 0s - loss: 0.2583 - accuracy: 0.9200\n",
      "test_loss: 0.2583363652229309 \n",
      "test_accuracy: 0.9200000166893005\n"
     ]
    }
   ],
   "source": [
    "# 추가 데이터 학습\n",
    "n_channel_1=16\n",
    "n_channel_2=32\n",
    "n_dense=32\n",
    "n_train_epoch=10\n",
    "\n",
    "model=keras.models.Sequential()\n",
    "model.add(keras.layers.Conv2D(n_channel_1, (3,3), activation='relu', input_shape=(28,28,3)))\n",
    "model.add(keras.layers.MaxPool2D(2,2))\n",
    "model.add(keras.layers.Conv2D(n_channel_2, (3,3), activation='relu'))\n",
    "model.add(keras.layers.MaxPooling2D((2,2)))\n",
    "model.add(keras.layers.Flatten())\n",
    "model.add(keras.layers.Dense(n_dense, activation='relu'))\n",
    "model.add(keras.layers.Dense(10, activation='softmax'))\n",
    "\n",
    "model.summary()\n",
    "model.compile(optimizer='adam',\n",
    "             loss='sparse_categorical_crossentropy',\n",
    "             metrics=['accuracy'])\n",
    "\n",
    "# 모델 훈련\n",
    "model.fit(x_other_test_norm, y_other_test, epochs=n_train_epoch)\n",
    "\n",
    "# 모델 시험\n",
    "test_loss, test_accuracy = model.evaluate(x_test_norm, y_test, verbose=2)\n",
    "print(\"test_loss: {} \".format(test_loss))\n",
    "print(\"test_accuracy: {}\".format(test_accuracy))\n"
   ]
  },
  {
   "cell_type": "markdown",
   "id": "signal-employment",
   "metadata": {},
   "source": [
    "#### accuracy값이 늘어나도록 n_train_epoch횟수를 증가시켜서 교육 실시"
   ]
  },
  {
   "cell_type": "markdown",
   "id": "ongoing-midnight",
   "metadata": {},
   "source": [
    "#### 파라미터 조정 ( ntrain_epoch 10 -> 20 )"
   ]
  },
  {
   "cell_type": "code",
   "execution_count": 85,
   "id": "falling-connection",
   "metadata": {},
   "outputs": [
    {
     "name": "stdout",
     "output_type": "stream",
     "text": [
      "Model: \"sequential_33\"\n",
      "_________________________________________________________________\n",
      "Layer (type)                 Output Shape              Param #   \n",
      "=================================================================\n",
      "conv2d_66 (Conv2D)           (None, 26, 26, 16)        448       \n",
      "_________________________________________________________________\n",
      "max_pooling2d_66 (MaxPooling (None, 13, 13, 16)        0         \n",
      "_________________________________________________________________\n",
      "conv2d_67 (Conv2D)           (None, 11, 11, 32)        4640      \n",
      "_________________________________________________________________\n",
      "max_pooling2d_67 (MaxPooling (None, 5, 5, 32)          0         \n",
      "_________________________________________________________________\n",
      "flatten_33 (Flatten)         (None, 800)               0         \n",
      "_________________________________________________________________\n",
      "dense_66 (Dense)             (None, 32)                25632     \n",
      "_________________________________________________________________\n",
      "dense_67 (Dense)             (None, 10)                330       \n",
      "=================================================================\n",
      "Total params: 31,050\n",
      "Trainable params: 31,050\n",
      "Non-trainable params: 0\n",
      "_________________________________________________________________\n",
      "Epoch 1/20\n",
      "101/101 [==============================] - 1s 3ms/step - loss: 1.4764 - accuracy: 0.3469\n",
      "Epoch 2/20\n",
      "101/101 [==============================] - 0s 3ms/step - loss: 1.0289 - accuracy: 0.4898\n",
      "Epoch 3/20\n",
      "101/101 [==============================] - 0s 3ms/step - loss: 0.9420 - accuracy: 0.5414\n",
      "Epoch 4/20\n",
      "101/101 [==============================] - 0s 3ms/step - loss: 0.8171 - accuracy: 0.6336\n",
      "Epoch 5/20\n",
      "101/101 [==============================] - 0s 3ms/step - loss: 0.7245 - accuracy: 0.7032\n",
      "Epoch 6/20\n",
      "101/101 [==============================] - 0s 3ms/step - loss: 0.6258 - accuracy: 0.7445\n",
      "Epoch 7/20\n",
      "101/101 [==============================] - 0s 3ms/step - loss: 0.5362 - accuracy: 0.7930\n",
      "Epoch 8/20\n",
      "101/101 [==============================] - 0s 3ms/step - loss: 0.4293 - accuracy: 0.8287\n",
      "Epoch 9/20\n",
      "101/101 [==============================] - 0s 3ms/step - loss: 0.3698 - accuracy: 0.8668\n",
      "Epoch 10/20\n",
      "101/101 [==============================] - 0s 3ms/step - loss: 0.3527 - accuracy: 0.8750\n",
      "Epoch 11/20\n",
      "101/101 [==============================] - 0s 3ms/step - loss: 0.2819 - accuracy: 0.9028\n",
      "Epoch 12/20\n",
      "101/101 [==============================] - 0s 3ms/step - loss: 0.3106 - accuracy: 0.8808\n",
      "Epoch 13/20\n",
      "101/101 [==============================] - 0s 3ms/step - loss: 0.2286 - accuracy: 0.9249\n",
      "Epoch 14/20\n",
      "101/101 [==============================] - 0s 3ms/step - loss: 0.2048 - accuracy: 0.9369\n",
      "Epoch 15/20\n",
      "101/101 [==============================] - 0s 3ms/step - loss: 0.1977 - accuracy: 0.9367\n",
      "Epoch 16/20\n",
      "101/101 [==============================] - 0s 3ms/step - loss: 0.1594 - accuracy: 0.9500\n",
      "Epoch 17/20\n",
      "101/101 [==============================] - 0s 3ms/step - loss: 0.1690 - accuracy: 0.9453\n",
      "Epoch 18/20\n",
      "101/101 [==============================] - 0s 3ms/step - loss: 0.1316 - accuracy: 0.9605\n",
      "Epoch 19/20\n",
      "101/101 [==============================] - 0s 3ms/step - loss: 0.1311 - accuracy: 0.9611\n",
      "Epoch 20/20\n",
      "101/101 [==============================] - 0s 3ms/step - loss: 0.0982 - accuracy: 0.9743\n",
      "10/10 - 0s - loss: 0.0805 - accuracy: 0.9900\n",
      "test_loss: 0.08047625422477722 \n",
      "test_accuracy: 0.9900000095367432\n"
     ]
    }
   ],
   "source": [
    "# 추가 데이터 학습 ( 기본값 진행시 n_train_epoch : 10 증가 )\n",
    "n_channel_1=16\n",
    "n_channel_2=32\n",
    "n_dense=32\n",
    "n_train_epoch=20\n",
    "\n",
    "model=keras.models.Sequential()\n",
    "model.add(keras.layers.Conv2D(n_channel_1, (3,3), activation='relu', input_shape=(28,28,3)))\n",
    "model.add(keras.layers.MaxPool2D(2,2))\n",
    "model.add(keras.layers.Conv2D(n_channel_2, (3,3), activation='relu'))\n",
    "model.add(keras.layers.MaxPooling2D((2,2)))\n",
    "model.add(keras.layers.Flatten())\n",
    "model.add(keras.layers.Dense(n_dense, activation='relu'))\n",
    "model.add(keras.layers.Dense(10, activation='softmax'))\n",
    "\n",
    "model.summary()\n",
    "model.compile(optimizer='adam',\n",
    "             loss='sparse_categorical_crossentropy',\n",
    "             metrics=['accuracy'])\n",
    "\n",
    "# 모델 훈련\n",
    "model.fit(x_other_test_norm, y_other_test, epochs=n_train_epoch)\n",
    "\n",
    "# 모델 시험\n",
    "test_loss, test_accuracy = model.evaluate(x_test_norm, y_test, verbose=2)\n",
    "print(\"test_loss: {} \".format(test_loss))\n",
    "print(\"test_accuracy: {}\".format(test_accuracy))\n"
   ]
  },
  {
   "cell_type": "markdown",
   "id": "resident-blair",
   "metadata": {},
   "source": [
    "#### n_channel_1=16 / n_channel_2=32 /  n_dense=32 / n_train_epoch=20\n",
    "#### loss: 0.0805 - accuracy: 0.9900 "
   ]
  },
  {
   "cell_type": "markdown",
   "id": "realistic-alberta",
   "metadata": {},
   "source": [
    "#### 파라미터 조정 ( ntrain_epoch 10 -> 20, dense 32 -> 64 )"
   ]
  },
  {
   "cell_type": "code",
   "execution_count": 89,
   "id": "requested-value",
   "metadata": {},
   "outputs": [
    {
     "name": "stdout",
     "output_type": "stream",
     "text": [
      "Model: \"sequential_37\"\n",
      "_________________________________________________________________\n",
      "Layer (type)                 Output Shape              Param #   \n",
      "=================================================================\n",
      "conv2d_74 (Conv2D)           (None, 26, 26, 16)        448       \n",
      "_________________________________________________________________\n",
      "max_pooling2d_74 (MaxPooling (None, 13, 13, 16)        0         \n",
      "_________________________________________________________________\n",
      "conv2d_75 (Conv2D)           (None, 11, 11, 32)        4640      \n",
      "_________________________________________________________________\n",
      "max_pooling2d_75 (MaxPooling (None, 5, 5, 32)          0         \n",
      "_________________________________________________________________\n",
      "flatten_37 (Flatten)         (None, 800)               0         \n",
      "_________________________________________________________________\n",
      "dense_74 (Dense)             (None, 64)                51264     \n",
      "_________________________________________________________________\n",
      "dense_75 (Dense)             (None, 10)                650       \n",
      "=================================================================\n",
      "Total params: 57,002\n",
      "Trainable params: 57,002\n",
      "Non-trainable params: 0\n",
      "_________________________________________________________________\n",
      "Epoch 1/20\n",
      "101/101 [==============================] - 1s 3ms/step - loss: 1.3279 - accuracy: 0.3689\n",
      "Epoch 2/20\n",
      "101/101 [==============================] - 0s 3ms/step - loss: 1.0074 - accuracy: 0.4890\n",
      "Epoch 3/20\n",
      "101/101 [==============================] - 0s 3ms/step - loss: 0.8228 - accuracy: 0.6382\n",
      "Epoch 4/20\n",
      "101/101 [==============================] - 0s 3ms/step - loss: 0.7084 - accuracy: 0.6826\n",
      "Epoch 5/20\n",
      "101/101 [==============================] - 0s 3ms/step - loss: 0.5702 - accuracy: 0.7837\n",
      "Epoch 6/20\n",
      "101/101 [==============================] - 0s 3ms/step - loss: 0.4743 - accuracy: 0.8107\n",
      "Epoch 7/20\n",
      "101/101 [==============================] - 0s 3ms/step - loss: 0.3897 - accuracy: 0.8612\n",
      "Epoch 8/20\n",
      "101/101 [==============================] - 0s 3ms/step - loss: 0.3361 - accuracy: 0.8755\n",
      "Epoch 9/20\n",
      "101/101 [==============================] - 0s 3ms/step - loss: 0.2915 - accuracy: 0.8922\n",
      "Epoch 10/20\n",
      "101/101 [==============================] - 0s 3ms/step - loss: 0.2764 - accuracy: 0.8998\n",
      "Epoch 11/20\n",
      "101/101 [==============================] - 0s 3ms/step - loss: 0.2176 - accuracy: 0.9307\n",
      "Epoch 12/20\n",
      "101/101 [==============================] - 0s 3ms/step - loss: 0.1919 - accuracy: 0.9273\n",
      "Epoch 13/20\n",
      "101/101 [==============================] - 0s 3ms/step - loss: 0.1736 - accuracy: 0.9438\n",
      "Epoch 14/20\n",
      "101/101 [==============================] - 0s 3ms/step - loss: 0.1455 - accuracy: 0.9534\n",
      "Epoch 15/20\n",
      "101/101 [==============================] - 0s 3ms/step - loss: 0.1262 - accuracy: 0.9600\n",
      "Epoch 16/20\n",
      "101/101 [==============================] - 0s 3ms/step - loss: 0.1022 - accuracy: 0.9676\n",
      "Epoch 17/20\n",
      "101/101 [==============================] - 0s 3ms/step - loss: 0.0937 - accuracy: 0.9731\n",
      "Epoch 18/20\n",
      "101/101 [==============================] - 0s 3ms/step - loss: 0.0666 - accuracy: 0.9837\n",
      "Epoch 19/20\n",
      "101/101 [==============================] - 0s 3ms/step - loss: 0.0664 - accuracy: 0.9799\n",
      "Epoch 20/20\n",
      "101/101 [==============================] - 0s 3ms/step - loss: 0.0692 - accuracy: 0.9794\n",
      "10/10 - 0s - loss: 0.0439 - accuracy: 0.9900\n",
      "test_loss: 0.04387867450714111 \n",
      "test_accuracy: 0.9900000095367432\n"
     ]
    }
   ],
   "source": [
    "# 추가 데이터 학습 ( 기본값 진행시 n_train_epoch : 10 증가, dense 32 증가 )\n",
    "n_channel_1=16\n",
    "n_channel_2=32  \n",
    "n_dense=64            # 32- > 64\n",
    "n_train_epoch=20      # 10 -> 20\n",
    "\n",
    "model=keras.models.Sequential()\n",
    "model.add(keras.layers.Conv2D(n_channel_1, (3,3), activation='relu', input_shape=(28,28,3)))\n",
    "model.add(keras.layers.MaxPool2D(2,2))\n",
    "model.add(keras.layers.Conv2D(n_channel_2, (3,3), activation='relu'))\n",
    "model.add(keras.layers.MaxPooling2D((2,2)))\n",
    "model.add(keras.layers.Flatten())\n",
    "model.add(keras.layers.Dense(n_dense, activation='relu'))\n",
    "model.add(keras.layers.Dense(10, activation='softmax'))\n",
    "\n",
    "model.summary()\n",
    "model.compile(optimizer='adam',\n",
    "             loss='sparse_categorical_crossentropy',\n",
    "             metrics=['accuracy'])\n",
    "\n",
    "# 모델 훈련\n",
    "model.fit(x_other_test_norm, y_other_test, epochs=n_train_epoch)\n",
    "\n",
    "# 모델 시험\n",
    "test_loss, test_accuracy = model.evaluate(x_test_norm, y_test, verbose=2)\n",
    "print(\"test_loss: {} \".format(test_loss))\n",
    "print(\"test_accuracy: {}\".format(test_accuracy))\n"
   ]
  },
  {
   "cell_type": "markdown",
   "id": "aging-stack",
   "metadata": {},
   "source": [
    "#### n_channel_1=16 / n_channel_2=32 /  n_dense=64 / n_train_epoch=20\n",
    "#### loss: 0.0439 - accuracy: 0.9900"
   ]
  }
 ],
 "metadata": {
  "kernelspec": {
   "display_name": "Python 3",
   "language": "python",
   "name": "python3"
  },
  "language_info": {
   "codemirror_mode": {
    "name": "ipython",
    "version": 3
   },
   "file_extension": ".py",
   "mimetype": "text/x-python",
   "name": "python",
   "nbconvert_exporter": "python",
   "pygments_lexer": "ipython3",
   "version": "3.7.9"
  }
 },
 "nbformat": 4,
 "nbformat_minor": 5
}
